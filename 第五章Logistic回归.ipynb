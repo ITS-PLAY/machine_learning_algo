{
 "cells": [
  {
   "cell_type": "code",
   "execution_count": 14,
   "id": "180a7620-e781-4784-b67a-e28c48235c16",
   "metadata": {},
   "outputs": [],
   "source": [
    "import pandas as pd\n",
    "from pathlib import Path\n",
    "import numpy as np"
   ]
  },
  {
   "cell_type": "code",
   "execution_count": 15,
   "id": "360c041b-9e7e-4560-9ca5-1aa2e6b82e5f",
   "metadata": {},
   "outputs": [],
   "source": [
    "data_path=Path('D:\\\\python_algorithm\\\\machinelearinginaction\\\\《机器学习实战》Python3代码\\\\Ch05')"
   ]
  },
  {
   "cell_type": "code",
   "execution_count": 16,
   "id": "5c8be631-6f9f-4946-8001-be831aee2f21",
   "metadata": {},
   "outputs": [],
   "source": [
    "#5.2.2 训练算法：梯度上升"
   ]
  },
  {
   "cell_type": "code",
   "execution_count": 17,
   "id": "860eb2f9-4fed-4df3-ac6d-393e9589bc81",
   "metadata": {},
   "outputs": [],
   "source": [
    "def loadDataSet():\n",
    "    dataMat,labelMat = [],[]\n",
    "    fr = open(data_path / 'testSet.txt')\n",
    "    for line in fr.readlines():\n",
    "        lineArr = line.strip().split()\n",
    "        dataMat.append([1.0,float(lineArr[0]),float(lineArr[1])])\n",
    "        labelMat.append(int(lineArr[2]))\n",
    "    return dataMat,labelMat"
   ]
  },
  {
   "cell_type": "code",
   "execution_count": 28,
   "id": "8311503f-9ecf-45a4-9269-7c50abe953cc",
   "metadata": {},
   "outputs": [],
   "source": [
    "def sigmoid(inX):\n",
    "    return 1.0/(1 + np.exp(-inX))"
   ]
  },
  {
   "cell_type": "code",
   "execution_count": 29,
   "id": "5d945bca-b99b-4dd5-a8a5-058d569b22b0",
   "metadata": {},
   "outputs": [],
   "source": [
    "def gradAscent(dataMatIn,classLabels):\n",
    "    dataMatrix = np.mat(dataMatIn)               #转换为numpy的矩阵\n",
    "    labelMat = np.mat(classLabels).transpose()\n",
    "    m,n = np.shape(dataMatrix)\n",
    "    alpha = 0.001\n",
    "    maxCycles = 500\n",
    "    weights = np.ones((n,1))\n",
    "    \n",
    "    for k in range(maxCycles):\n",
    "        h = sigmoid(dataMatrix * weights)\n",
    "        error = (labelMat - h)\n",
    "        weights = weights + alpha * dataMatrix.transpose() * error\n",
    "    return weights"
   ]
  },
  {
   "cell_type": "code",
   "execution_count": 30,
   "id": "cd20493e-ad7f-4d10-b6f3-dffc9f007e87",
   "metadata": {},
   "outputs": [],
   "source": [
    "dataArr,labelMat = loadDataSet()"
   ]
  },
  {
   "cell_type": "code",
   "execution_count": 34,
   "id": "14b47cda-b9e7-4799-a4ab-7d5eddb9b697",
   "metadata": {},
   "outputs": [],
   "source": [
    "weights = gradAscent(dataArr,labelMat)"
   ]
  },
  {
   "cell_type": "code",
   "execution_count": 32,
   "id": "df15439a-53ee-4039-85db-997efa2f389c",
   "metadata": {},
   "outputs": [],
   "source": [
    "#5.2.3 画出决策边界"
   ]
  },
  {
   "cell_type": "code",
   "execution_count": 55,
   "id": "37540d07-1dd1-43c3-94d0-3b49535a29c6",
   "metadata": {},
   "outputs": [],
   "source": [
    "def plotBestFit(wei):\n",
    "    import matplotlib.pyplot as plt\n",
    "    dataMat,labelMat = loadDataSet()\n",
    "    \n",
    "    dataArr = np.array(dataMat)\n",
    "    n = np.shape(dataArr)[0]\n",
    "    \n",
    "    xcord1,ycord1 = [],[]\n",
    "    xcord2,ycord2 = [],[]\n",
    "    \n",
    "    for i in range(n):\n",
    "        if int(labelMat[i]) == 1:\n",
    "            xcord1.append(dataArr[i,1])\n",
    "            ycord1.append(dataArr[i,2])\n",
    "        else:\n",
    "            xcord2.append(dataArr[i,1])\n",
    "            ycord2.append(dataArr[i,2])\n",
    "            \n",
    "    fig = plt.figure()\n",
    "    ax = fig.add_subplot(111)\n",
    "    ax.scatter(xcord1,ycord1,s=30,c='red',marker='s')\n",
    "    ax.scatter(xcord2,ycord2,s=30,c='green')\n",
    "    \n",
    "    x = np.arange(-3.0,3.0,0.1)\n",
    "    y = (-weights[0] - weights[1] * x)/weights[2]\n",
    "    ax.plot(x,y)\n",
    "    plt.xlabel('X1')\n",
    "    plt.ylabel('X2')\n",
    "    plt.show()"
   ]
  },
  {
   "cell_type": "code",
   "execution_count": 56,
   "id": "7a650b8a-305e-4dc1-a73f-748a83ed0524",
   "metadata": {},
   "outputs": [
    {
     "data": {
      "image/png": "[encoded data removed]",
      "text/plain": [
       "<Figure size 432x288 with 1 Axes>"
      ]
     },
     "metadata": {
      "needs_background": "light"
     },
     "output_type": "display_data"
    }
   ],
   "source": [
    "plotBestFit(weights)"
   ]
  },
  {
   "cell_type": "code",
   "execution_count": null,
   "id": "2082a837-7fbc-475d-8d68-6f87f5082878",
   "metadata": {},
   "outputs": [],
   "source": []
  },
  {
   "cell_type": "code",
   "execution_count": 43,
   "id": "f922c00d-6936-4fd5-a3cb-05e87413298e",
   "metadata": {},
   "outputs": [],
   "source": [
    "#5.2.4 训练算法：随机梯度上升"
   ]
  },
  {
   "cell_type": "code",
   "execution_count": 44,
   "id": "ea62634d-2e2c-40ae-90e0-3dbe0886e53e",
   "metadata": {},
   "outputs": [],
   "source": [
    "def stocGradAscent0(dataMatrix,classLabels):\n",
    "    m,n = np.shape(dataMatrix)\n",
    "    alpha = 0.01\n",
    "    weights = np.ones(n)\n",
    "    \n",
    "    for i in range(m):\n",
    "        h = sigmoid(sum(dataMatrix[i]*weights))\n",
    "        error = classLabels[i] - h\n",
    "        weights = weights + alpha * error * dataMatrix[i]\n",
    "    return weights"
   ]
  },
  {
   "cell_type": "code",
   "execution_count": 47,
   "id": "16d1f8de-725b-437a-9a63-b68a1ca52bcd",
   "metadata": {},
   "outputs": [],
   "source": [
    "dataArr,labelMat = loadDataSet()"
   ]
  },
  {
   "cell_type": "code",
   "execution_count": 49,
   "id": "7fd6c9af-422d-4f8d-b1c4-f2528f232efe",
   "metadata": {},
   "outputs": [],
   "source": [
    "weights = stocGradAscent0(np.array(dataArr),labelMat)"
   ]
  },
  {
   "cell_type": "code",
   "execution_count": 57,
   "id": "d1b77cf9-3087-4fd2-975b-d391e0e96d68",
   "metadata": {},
   "outputs": [
    {
     "data": {
      "image/png": "[encoded data removed]",
      "text/plain": [
       "<Figure size 432x288 with 1 Axes>"
      ]
     },
     "metadata": {
      "needs_background": "light"
     },
     "output_type": "display_data"
    }
   ],
   "source": [
    "plotBestFit(weights)"
   ]
  },
  {
   "cell_type": "code",
   "execution_count": 67,
   "id": "ccea3445-a5ff-45d4-9d25-a432e6d85c75",
   "metadata": {},
   "outputs": [],
   "source": [
    "def stocGradAscent1(dataMatrix,classLabels,numIter=150):\n",
    "    m,n = np.shape(dataMatrix)\n",
    "    weights = np.ones(n)\n",
    "    for j in range(numIter):\n",
    "        dataIndex = list(range(m))\n",
    "        for i in range(m):\n",
    "            alpha = 4/(1.0+j+i)+0.01\n",
    "            randIndex = int(np.random.uniform(0,len(dataIndex)))\n",
    "            h = sigmoid(sum(dataMatrix[randIndex]*weights))\n",
    "            error = classLabels[randIndex] - h\n",
    "            weights = weights + alpha * error * dataMatrix[randIndex]\n",
    "            del(dataIndex[randIndex])\n",
    "    return weights"
   ]
  },
  {
   "cell_type": "code",
   "execution_count": 68,
   "id": "0e1538fd-5154-482a-8096-3d23bbaa413c",
   "metadata": {},
   "outputs": [],
   "source": [
    "dataArr,labelMat = loadDataSet()"
   ]
  },
  {
   "cell_type": "code",
   "execution_count": 69,
   "id": "dd7d74b9-0e0f-4d83-9656-453eee2f9051",
   "metadata": {},
   "outputs": [],
   "source": [
    "weights = stocGradAscent1(np.array(dataArr),labelMat)"
   ]
  },
  {
   "cell_type": "code",
   "execution_count": 70,
   "id": "61b47bc8-7ab1-4bfc-a5d2-c41f80991201",
   "metadata": {},
   "outputs": [
    {
     "data": {
      "image/png": "[encoded data removed]",
      "text/plain": [
       "<Figure size 432x288 with 1 Axes>"
      ]
     },
     "metadata": {
      "needs_background": "light"
     },
     "output_type": "display_data"
    }
   ],
   "source": [
    "plotBestFit(weights)"
   ]
  },
  {
   "cell_type": "code",
   "execution_count": 71,
   "id": "fb1439d6-c494-45b8-b018-43d1c06f4a0a",
   "metadata": {},
   "outputs": [],
   "source": [
    "#5.3.2 测试算法：用logistic回归进行分类"
   ]
  },
  {
   "cell_type": "code",
   "execution_count": 72,
   "id": "b940503d-b4b9-4cda-b3f2-b51e9f3437a8",
   "metadata": {},
   "outputs": [],
   "source": [
    "def classifyVector(inX,weights):\n",
    "    prob = sigmoid(sum(inX * weights))\n",
    "    if prob > 0.5: return 1.0\n",
    "    return 0.0\n",
    "\n",
    "def colicTest():\n",
    "    frTrain = open(data_path/'horseColicTraining.txt')\n",
    "    frTest = open(data_path/'horseColicTest.txt')\n",
    "    trainingSet,trainingLabels = [],[]\n",
    "    for line in frTrain.readlines():\n",
    "        currLine = line.strip().split('\\t')\n",
    "        lineArr = []\n",
    "        for i in range(21):\n",
    "            lineArr.append(float(currLine[i]))\n",
    "        trainingSet.append(lineArr)\n",
    "        trainingLabels.append(float(currLine[21]))\n",
    "        \n",
    "    trainWeights = stocGradAscent1(np.array(trainingSet),trainingLabels,500)\n",
    "    \n",
    "    errorCount = 0\n",
    "    numTestVec = 0\n",
    "    \n",
    "    for line in frTest.readlines():\n",
    "        numTestVec += 1.0\n",
    "        currLine = line.strip().split('\\t')\n",
    "        lineArr = []\n",
    "        for i in range(21):\n",
    "            lineArr.append(float(currLine[i]))\n",
    "        if int(classifyVector(np.array(lineArr),trainWeights)) != int(currLine[21]):\n",
    "            errorCount += 1\n",
    "    \n",
    "    errorRate = (float(errorCount)/numTestVec)\n",
    "    \n",
    "    print(\"the error rate of this test is: %f\",errorRate)\n",
    "    return errorRate"
   ]
  },
  {
   "cell_type": "code",
   "execution_count": 73,
   "id": "5477282c-de71-43ac-9811-6385b48ed30a",
   "metadata": {},
   "outputs": [],
   "source": [
    "def multiTest():\n",
    "    numTests = 10\n",
    "    errorSum = 0.0\n",
    "    for k in range(numTests):\n",
    "        errorSum += colicTest()\n",
    "    print(numTests,errorSum/numTests)"
   ]
  },
  {
   "cell_type": "code",
   "execution_count": 74,
   "id": "95130db6-96bd-410e-9ac4-e46ec583e3e3",
   "metadata": {},
   "outputs": [
    {
     "name": "stderr",
     "output_type": "stream",
     "text": [
      "C:\\Users\\ITS\\AppData\\Local\\Temp/ipykernel_2848/1083215471.py:2: RuntimeWarning: overflow encountered in exp\n",
      "  return 1.0/(1 + np.exp(-inX))\n"
     ]
    },
    {
     "name": "stdout",
     "output_type": "stream",
     "text": [
      "the error rate of this test is: %f 0.417910447761194\n",
      "the error rate of this test is: %f 0.3283582089552239\n",
      "the error rate of this test is: %f 0.31343283582089554\n",
      "the error rate of this test is: %f 0.47761194029850745\n",
      "the error rate of this test is: %f 0.373134328358209\n",
      "the error rate of this test is: %f 0.40298507462686567\n",
      "the error rate of this test is: %f 0.2835820895522388\n",
      "the error rate of this test is: %f 0.3283582089552239\n",
      "the error rate of this test is: %f 0.373134328358209\n",
      "the error rate of this test is: %f 0.34328358208955223\n",
      "10 0.3641791044776119\n"
     ]
    }
   ],
   "source": [
    "multiTest()"
   ]
  },
  {
   "cell_type": "code",
   "execution_count": null,
   "id": "09bf4f6f-70bb-4ec8-bd23-83df2baf9bc8",
   "metadata": {},
   "outputs": [],
   "source": []
  }
 ],
 "metadata": {
  "kernelspec": {
   "display_name": "Python 3 (ipykernel)",
   "language": "python",
   "name": "python3"
  },
  "language_info": {
   "codemirror_mode": {
    "name": "ipython",
    "version": 3
   },
   "file_extension": ".py",
   "mimetype": "text/x-python",
   "name": "python",
   "nbconvert_exporter": "python",
   "pygments_lexer": "ipython3",
   "version": "3.9.1"
  }
 },
 "nbformat": 4,
 "nbformat_minor": 5
}
