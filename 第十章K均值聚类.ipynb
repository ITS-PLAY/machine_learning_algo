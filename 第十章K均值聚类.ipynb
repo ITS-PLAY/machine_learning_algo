{
 "cells": [
  {
   "cell_type": "code",
   "execution_count": 1,
   "id": "58092ff8-18cd-4cb6-9b90-620f662df609",
   "metadata": {},
   "outputs": [],
   "source": [
    "from numpy import *\n",
    "from pathlib import Path"
   ]
  },
  {
   "cell_type": "code",
   "execution_count": 2,
   "id": "c2ec12e1-01e1-4be9-9b8b-ce9bd9bf80fc",
   "metadata": {},
   "outputs": [],
   "source": [
    "def loadDataSet(fileName):\n",
    "    dataMat = []\n",
    "    fr = open(fileName)\n",
    "    \n",
    "    for line in fr.readlines():\n",
    "        curLine = line.strip().split('\\t')\n",
    "        fltLine = list(map(float,curLine))\n",
    "        dataMat.append(fltLine)\n",
    "    return dataMat"
   ]
  },
  {
   "cell_type": "code",
   "execution_count": 14,
   "id": "f9955e0f-47dc-43d9-a014-5d978815a3b7",
   "metadata": {},
   "outputs": [],
   "source": [
    "def distEclud(vecA,vecB):\n",
    "    return sqrt(sum(power(vecA - vecB,2)))"
   ]
  },
  {
   "cell_type": "code",
   "execution_count": 6,
   "id": "a9e4a866-cafb-4b4a-861f-d646f85d585a",
   "metadata": {},
   "outputs": [],
   "source": [
    "def randCent(dataSet,k):\n",
    "    n = shape(dataSet)[1]\n",
    "    centroids = mat(zeros((k,n)))\n",
    "    for j in range(n):\n",
    "        minJ = min(dataSet[:,j])\n",
    "        rangeJ = float(max(dataSet[:,j]) - minJ)\n",
    "        centroids[:,j] = minJ + rangeJ * random.rand(k,1)\n",
    "    return centroids"
   ]
  },
  {
   "cell_type": "code",
   "execution_count": 7,
   "id": "91f7b0a0-b4a6-4776-a80e-52ffa1f13741",
   "metadata": {},
   "outputs": [],
   "source": [
    "data_path = Path('D:\\python_algorithm\\machinelearinginaction\\《机器学习实战》Python3代码\\Ch10')"
   ]
  },
  {
   "cell_type": "code",
   "execution_count": 11,
   "id": "627d7174-38e7-4370-835b-feacbb04ce29",
   "metadata": {},
   "outputs": [],
   "source": [
    "dataMat = mat(loadDataSet(data_path / 'testSet.txt'))"
   ]
  },
  {
   "cell_type": "code",
   "execution_count": null,
   "id": "db7e8ace-0ec9-4754-9323-b20a3fecc1a4",
   "metadata": {},
   "outputs": [],
   "source": []
  },
  {
   "cell_type": "code",
   "execution_count": 16,
   "id": "0b917fd0-b9b2-419e-a355-62e325e790b8",
   "metadata": {},
   "outputs": [],
   "source": [
    "#K-均值聚类算法"
   ]
  },
  {
   "cell_type": "code",
   "execution_count": 21,
   "id": "628b36f8-a3c8-490b-bc78-03ecb9014fce",
   "metadata": {},
   "outputs": [],
   "source": [
    "def kMeans(dataSet,k,distMeas=distEclud,createCent=randCent):\n",
    "    m = shape(dataSet)[0]\n",
    "    clusterAssment = mat(zeros((m,2)))    #用于记录每一行所属的类别(簇分配的结果)\n",
    "    centroids = createCent(dataSet,k)\n",
    "    \n",
    "    clusterChanged = True\n",
    "    while clusterChanged:\n",
    "        clusterChanged = False\n",
    "        for i in range(m):\n",
    "            minDist = float(inf)\n",
    "            minIndex = -1\n",
    "            \n",
    "            for j in range(k):\n",
    "                distJI = distMeas(centroids[j,:],dataSet[i,:])\n",
    "                if distJI < minDist:\n",
    "                    minDist = distJI\n",
    "                    minIndex = j\n",
    "            if clusterAssment[i,0] != minIndex:\n",
    "                clusterChanged = True\n",
    "            clusterAssment[i,:] = minIndex,minDist**2      #重新分配\n",
    "        print(centroids)\n",
    "        for cent in range(k):\n",
    "            ptsInClust = dataSet[nonzero(clusterAssment[:,0].A == cent)[0]]\n",
    "            centroids[cent,:] = mean(ptsInClust,axis=0)\n",
    "            \n",
    "    return centroids,clusterAssment"
   ]
  },
  {
   "cell_type": "code",
   "execution_count": 22,
   "id": "de958f73-fcaa-479c-a2bf-314ddfcc6e49",
   "metadata": {},
   "outputs": [
    {
     "name": "stdout",
     "output_type": "stream",
     "text": [
      "[[-1.56046662 -3.64029922]\n",
      " [ 0.59060624 -2.96110831]\n",
      " [-0.42020708 -1.37579214]\n",
      " [ 1.70398172  2.21481441]]\n",
      "[[-3.38237045 -2.9473363 ]\n",
      " [ 2.71433141 -3.06923671]\n",
      " [-2.7037348   1.395213  ]\n",
      " [ 0.70351032  2.85504687]]\n",
      "[[-3.38237045 -2.9473363 ]\n",
      " [ 2.80293085 -2.7315146 ]\n",
      " [-2.768021    2.65028438]\n",
      " [ 1.98283629  3.1465235 ]]\n",
      "[[-3.38237045 -2.9473363 ]\n",
      " [ 2.80293085 -2.7315146 ]\n",
      " [-2.46154315  2.78737555]\n",
      " [ 2.6265299   3.10868015]]\n"
     ]
    }
   ],
   "source": [
    "myCentroids,clusterAssing = kMeans(dataMat,4)"
   ]
  },
  {
   "cell_type": "code",
   "execution_count": null,
   "id": "f0c92398-c8b7-46d1-b098-2c143a940a21",
   "metadata": {},
   "outputs": [],
   "source": []
  },
  {
   "cell_type": "code",
   "execution_count": 28,
   "id": "78b532b2-d713-4d5e-8886-2e44afe0a2cd",
   "metadata": {},
   "outputs": [],
   "source": [
    "#二分K-均值算法\n",
    "#为了克服k-均值算法收敛于局部最小值的问题。首先将所有点作为一个簇，然后将该簇一分为二。之后选择其中一个簇进行划分（该簇可以最\\\n",
    "#大程度降低误差平方和的值"
   ]
  },
  {
   "cell_type": "code",
   "execution_count": 57,
   "id": "0d23764d-4d39-4ee8-ab5f-d6302e9b36a8",
   "metadata": {},
   "outputs": [],
   "source": [
    "def biKmeans(dataSet,k,distMeas=distEclud):\n",
    "    m = shape(dataSet)[0]\n",
    "    \n",
    "    clusterAssment = mat(zeros((m,2)))\n",
    "    centroid0 = mean(dataSet,axis=0).tolist()[0]\n",
    "    \n",
    "    centList = [centroid0]\n",
    "    for j in range(m):\n",
    "        clusterAssment[j,1] = distMeas(mat(centroid0), dataSet[j,:])**2\n",
    "        \n",
    "    while len(centList) < k:\n",
    "        lowestSSE = float(inf)\n",
    "        for i in range(len(centList)):\n",
    "            ptsInCurrCluster = dataSet[nonzero(clusterAssment[:,0].A == i)[0],:]\n",
    "            centroidMat,splitClustAss = \\\n",
    "            kMeans(ptsInCurrCluster,2,distMeas)\n",
    "            sseSplit = sum(splitClustAss[:,1])\n",
    "            \n",
    "            sseNotSplit = \\\n",
    "            sum(clusterAssment[nonzero(clusterAssment[:,0].A != i)[0],1])\n",
    "            \n",
    "            if sseSplit + sseNotSplit < lowestSSE:\n",
    "                bestCentToSplit = i\n",
    "                bestNewCents = centroidMat\n",
    "                bestClustAss = splitClustAss.copy()\n",
    "                lowestSSE = sseSplit + sseNotSplit\n",
    "        bestClustAss[nonzero(bestClustAss[:,0].A == 1)[0],0] = len(centList)  #更新簇的分配结果\n",
    "        bestClustAss[nonzero(bestClustAss[:,0].A == 0)[0],0] = bestCentToSplit\n",
    "    \n",
    "        centList[bestCentToSplit] = bestNewCents[0,:].tolist()[0]\n",
    "        centList.append(bestNewCents[1,:].tolist()[0])\n",
    "        \n",
    "        clusterAssment[nonzero(clusterAssment[:,0].A == bestCentToSplit)[0],:] = bestClustAss\n",
    "    return mat(centList),clusterAssment"
   ]
  },
  {
   "cell_type": "code",
   "execution_count": 58,
   "id": "2f74e1b0-93d7-4a31-ab86-c8963a56d779",
   "metadata": {},
   "outputs": [],
   "source": [
    "dataMat3 = mat(loadDataSet(data_path / 'testSet2.txt'))"
   ]
  },
  {
   "cell_type": "code",
   "execution_count": 59,
   "id": "6c87a745-b1dd-41ba-a933-8258db72163f",
   "metadata": {},
   "outputs": [
    {
     "name": "stdout",
     "output_type": "stream",
     "text": [
      "[[ 0.91975193 -3.02742756]\n",
      " [-1.72960442  0.23983441]]\n",
      "[[ 0.00853819 -2.92864213]\n",
      " [-0.21818127  2.73586548]]\n",
      "[[-0.45965615 -2.7782156 ]\n",
      " [-0.00675605  3.22710297]]\n",
      "[[ 0.8357105  -3.2406631 ]\n",
      " [-0.64986685 -1.83969857]]\n",
      "[[ 0.35496167 -3.36033556]\n",
      " [-1.12616164 -2.30193564]]\n",
      "[[0.45043444 3.86270899]\n",
      " [4.01917379 3.7152858 ]]\n",
      "[[-2.04192752  3.38503076]\n",
      " [ 3.3851964   2.96389   ]]\n",
      "[[-2.94737575  3.3263781 ]\n",
      " [ 2.93386365  3.12782785]]\n"
     ]
    }
   ],
   "source": [
    "centList,myNewAssments = biKmeans(dataMat3,3)"
   ]
  },
  {
   "cell_type": "code",
   "execution_count": null,
   "id": "058b97f3-c572-4be6-a5b1-91045faf19f8",
   "metadata": {},
   "outputs": [],
   "source": []
  },
  {
   "cell_type": "code",
   "execution_count": null,
   "id": "baf39160-113f-406a-b620-e99b14af70d6",
   "metadata": {},
   "outputs": [],
   "source": []
  },
  {
   "cell_type": "code",
   "execution_count": 60,
   "id": "cc47b14c-b44e-43ff-9e94-088eea479254",
   "metadata": {},
   "outputs": [],
   "source": [
    "import urllib\n",
    "import json\n",
    "def geoGrab(stAddress, city):\n",
    "    apiStem = 'http://where.yahooapis.com/geocode?'  #create a dict and constants for the goecoder\n",
    "    params = {}\n",
    "    params['flags'] = 'J'#JSON return type\n",
    "    params['appid'] = 'aaa0VN6k'\n",
    "    params['location'] = '%s %s' % (stAddress, city)\n",
    "    url_params = urllib.parse.urlencode(params)\n",
    "    yahooApi = apiStem + url_params      #print url_params\n",
    "    print(yahooApi)\n",
    "    c=urllib.request.urlopen(yahooApi)\n",
    "    return json.loads(c.read())\n",
    "\n",
    "from time import sleep\n",
    "def massPlaceFind(fileName):\n",
    "    fw = open('places.txt', 'w')\n",
    "    for line in open(fileName).readlines():\n",
    "        line = line.strip()\n",
    "        lineArr = line.split('\\t')\n",
    "        retDict = geoGrab(lineArr[1], lineArr[2])\n",
    "        if retDict['ResultSet']['Error'] == 0:\n",
    "            lat = float(retDict['ResultSet']['Results'][0]['latitude'])\n",
    "            lng = float(retDict['ResultSet']['Results'][0]['longitude'])\n",
    "            print(\"%s\\t%f\\t%f\" % (lineArr[0], lat, lng))\n",
    "            fw.write('%s\\t%f\\t%f\\n' % (line, lat, lng))\n",
    "        else: print(\"error fetching\")\n",
    "        sleep(1)\n",
    "    fw.close()\n",
    "    \n",
    "def distSLC(vecA, vecB):#Spherical Law of Cosines\n",
    "    a = sin(vecA[0,1]*pi/180) * sin(vecB[0,1]*pi/180)\n",
    "    b = cos(vecA[0,1]*pi/180) * cos(vecB[0,1]*pi/180) * \\\n",
    "                      cos(pi * (vecB[0,0]-vecA[0,0]) /180)\n",
    "    return arccos(a + b)*6371.0 #pi is imported with numpy\n",
    "\n",
    "import matplotlib\n",
    "import matplotlib.pyplot as plt\n",
    "def clusterClubs(numClust=5):\n",
    "    datList = []\n",
    "    for line in open('places.txt').readlines():\n",
    "        lineArr = line.split('\\t')\n",
    "        datList.append([float(lineArr[4]), float(lineArr[3])])\n",
    "    datMat = mat(datList)\n",
    "    myCentroids, clustAssing = biKmeans(datMat, numClust, distMeas=distSLC)\n",
    "    fig = plt.figure()\n",
    "    rect=[0.1,0.1,0.8,0.8]\n",
    "    scatterMarkers=['s', 'o', '^', '8', 'p', \\\n",
    "                    'd', 'v', 'h', '>', '<']\n",
    "    axprops = dict(xticks=[], yticks=[])\n",
    "    ax0=fig.add_axes(rect, label='ax0', **axprops)\n",
    "    imgP = plt.imread('Portland.png')\n",
    "    ax0.imshow(imgP)\n",
    "    ax1=fig.add_axes(rect, label='ax1', frameon=False)\n",
    "    for i in range(numClust):\n",
    "        ptsInCurrCluster = datMat[nonzero(clustAssing[:,0].A==i)[0],:]\n",
    "        markerStyle = scatterMarkers[i % len(scatterMarkers)]\n",
    "        ax1.scatter(ptsInCurrCluster[:,0].flatten().A[0], ptsInCurrCluster[:,1].flatten().A[0], marker=markerStyle, s=90)\n",
    "    ax1.scatter(myCentroids[:,0].flatten().A[0], myCentroids[:,1].flatten().A[0], marker='+', s=300)\n",
    "    plt.show()"
   ]
  },
  {
   "cell_type": "code",
   "execution_count": 63,
   "id": "284f2751-4835-48b2-a1f8-69b780de3667",
   "metadata": {},
   "outputs": [],
   "source": [
    "# geoResults= geoGrab('1 VA Center','Augusta, ME')  ##抓取失败，因为yahoo的api停止运行"
   ]
  },
  {
   "cell_type": "code",
   "execution_count": null,
   "id": "26ae124f-2cdc-4ae1-8cd9-bb893fdba09b",
   "metadata": {},
   "outputs": [],
   "source": []
  }
 ],
 "metadata": {
  "kernelspec": {
   "display_name": "Python 3 (ipykernel)",
   "language": "python",
   "name": "python3"
  },
  "language_info": {
   "codemirror_mode": {
    "name": "ipython",
    "version": 3
   },
   "file_extension": ".py",
   "mimetype": "text/x-python",
   "name": "python",
   "nbconvert_exporter": "python",
   "pygments_lexer": "ipython3",
   "version": "3.9.1"
  }
 },
 "nbformat": 4,
 "nbformat_minor": 5
}
