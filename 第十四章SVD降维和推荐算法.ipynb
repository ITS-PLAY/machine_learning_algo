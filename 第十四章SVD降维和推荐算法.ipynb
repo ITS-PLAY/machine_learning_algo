{
 "cells": [
  {
   "cell_type": "code",
   "execution_count": 1,
   "id": "5ae5627c-f77d-4573-ab9b-9eca5ef7eebb",
   "metadata": {},
   "outputs": [],
   "source": [
    "from numpy import *\n",
    "from pathlib import Path"
   ]
  },
  {
   "cell_type": "code",
   "execution_count": 4,
   "id": "ce1f473c-f0aa-4665-b1a9-906b6ae3eaaa",
   "metadata": {},
   "outputs": [],
   "source": [
    "#奇异值分解（SVD，Singular Value Decomposition），应用于隐形语言索引（文档主题的确定）和推荐系统"
   ]
  },
  {
   "cell_type": "code",
   "execution_count": 5,
   "id": "7208b40b-a4a8-4674-905f-5effd04ebd98",
   "metadata": {},
   "outputs": [],
   "source": [
    "##奇异值表示对角矩阵的元素。"
   ]
  },
  {
   "cell_type": "code",
   "execution_count": 10,
   "id": "fc2f5186-6244-415e-b556-9aa9809a0144",
   "metadata": {},
   "outputs": [],
   "source": [
    "def loadExData():\n",
    "    return[[0, 0, 0, 2, 2],\n",
    "           [0, 0, 0, 3, 3],\n",
    "           [0, 0, 0, 1, 1],\n",
    "           [1, 1, 1, 0, 0],\n",
    "           [2, 2, 2, 0, 0],\n",
    "           [5, 5, 5, 0, 0],\n",
    "           [1, 1, 1, 0, 0]]"
   ]
  },
  {
   "cell_type": "code",
   "execution_count": 11,
   "id": "76942324-6ca0-4d2e-8e29-bc6d52501b04",
   "metadata": {},
   "outputs": [],
   "source": [
    "Data = loadExData()\n",
    "U,Sigma,VT = linalg.svd(Data)"
   ]
  },
  {
   "cell_type": "code",
   "execution_count": 12,
   "id": "fdb00741-732f-4ca0-a600-ce6a9ea6aa62",
   "metadata": {},
   "outputs": [
    {
     "data": {
      "text/plain": [
       "array([9.64365076e+00, 5.29150262e+00, 7.80307960e-16, 4.02009206e-17,\n",
       "       1.38744823e-33])"
      ]
     },
     "execution_count": 12,
     "metadata": {},
     "output_type": "execute_result"
    }
   ],
   "source": [
    "Sigma"
   ]
  },
  {
   "cell_type": "code",
   "execution_count": 15,
   "id": "f4124cd5-3921-4916-baf0-7034f3d72757",
   "metadata": {},
   "outputs": [
    {
     "data": {
      "text/plain": [
       "matrix([[-1.04793449e-15,  2.51142317e-16,  7.96792175e-16,\n",
       "          2.00000000e+00,  2.00000000e+00],\n",
       "        [-6.54487160e-16,  4.92555506e-16,  1.61931655e-16,\n",
       "          3.00000000e+00,  3.00000000e+00],\n",
       "        [-2.26768726e-16,  1.63098445e-16,  6.36702813e-17,\n",
       "          1.00000000e+00,  1.00000000e+00],\n",
       "        [ 1.00000000e+00,  1.00000000e+00,  1.00000000e+00,\n",
       "         -4.08233644e-17, -4.08233644e-17],\n",
       "        [ 2.00000000e+00,  2.00000000e+00,  2.00000000e+00,\n",
       "         -8.16467288e-17, -8.16467288e-17],\n",
       "        [ 5.00000000e+00,  5.00000000e+00,  5.00000000e+00,\n",
       "          1.62949893e-16,  1.62949893e-16],\n",
       "        [ 1.00000000e+00,  1.00000000e+00,  1.00000000e+00,\n",
       "         -4.08233644e-17, -4.08233644e-17]])"
      ]
     },
     "execution_count": 15,
     "metadata": {},
     "output_type": "execute_result"
    }
   ],
   "source": [
    "#根据Sigma的奇异值，重构矩阵\n",
    "Sig3 = mat([[Sigma[0],0,0],\n",
    "           [0,Sigma[1],0],\n",
    "           [0,0,Sigma[2]]])\n",
    "U[:,:3]*Sig3*VT[:3,:]"
   ]
  },
  {
   "cell_type": "code",
   "execution_count": null,
   "id": "0fbf828b-4cb5-451d-a586-c6850aca4925",
   "metadata": {},
   "outputs": [],
   "source": []
  },
  {
   "cell_type": "code",
   "execution_count": 18,
   "id": "cce5d06a-98b8-4aa8-9826-8689e4a90252",
   "metadata": {},
   "outputs": [],
   "source": [
    "#相似度计算，有欧式距离、皮尔逊相关系数、余弦相似度\n",
    "def ecludSim(inA,inB):\n",
    "    return 1.0/(1.0 + linalg.norm(inA - inB))\n",
    "\n",
    "def pearsSim(inA,inB):\n",
    "    if len(inA) < 3:\n",
    "        return 1.0\n",
    "    return 0.5 + 0.5 * corrcoef(inA,inB,rowvar=0)[0][1]\n",
    "\n",
    "def cosSim(inA,inB):\n",
    "    num = float(inA.T * inB)\n",
    "    denom = linalg.norm(inA) * linalg.norm(inB)\n",
    "    return 0.5 + 0.5 * (num/denom)"
   ]
  },
  {
   "cell_type": "code",
   "execution_count": 20,
   "id": "a5d4056c-4387-4785-b061-278a445e3321",
   "metadata": {},
   "outputs": [
    {
     "data": {
      "text/plain": [
       "0.5"
      ]
     },
     "execution_count": 20,
     "metadata": {},
     "output_type": "execute_result"
    }
   ],
   "source": [
    "Data = mat(Data)\n",
    "cosSim(Data[:,0],Data[:,4])"
   ]
  },
  {
   "cell_type": "code",
   "execution_count": 27,
   "id": "f00c7585-2aed-4024-9d6d-36c022b85cc3",
   "metadata": {},
   "outputs": [],
   "source": [
    "##基于物品的相似度和基于用户的相似度。取决于哪个的数据量少些\n",
    "def standEst(dataMat,user,simMeas,item):\n",
    "    n = shape(dataMat)[1]\n",
    "    simTotal,ratSimTotal = 0.0,0.0\n",
    "    for j in range(n):\n",
    "        userRating = dataMat[user,j]\n",
    "        if userRating == 0:\n",
    "            continue\n",
    "            \n",
    "        overLap = nonzero(logical_and(dataMat[:,item].A > 0,  #寻找两个用户都评级的物品\n",
    "                         dataMat[:,j].A > 0))[0]\n",
    "        if len(overLap) == 0:\n",
    "            similarity = 0\n",
    "        else:\n",
    "            similarity = simMeas(dataMat[overLap,item],\n",
    "                                dataMat[overLap,j])\n",
    "            \n",
    "        simTotal += similarity\n",
    "        ratSimTotal += similarity * userRating         #相似度值 乘以用户对j物品的评分\n",
    "        \n",
    "    if simTotal == 0:\n",
    "        return 0\n",
    "    else:\n",
    "        return ratSimTotal/simTotal"
   ]
  },
  {
   "cell_type": "code",
   "execution_count": 28,
   "id": "e1a946fb-b3e2-437d-8811-7c4ae0fec5d7",
   "metadata": {},
   "outputs": [],
   "source": [
    "def recommend(dataMat,user,N=3,simMeas=cosSim,estMethod=standEst):\n",
    "    unratedItems = nonzero(dataMat[user,:].A == 0)[1]\n",
    "    if len(unratedItems) == 0:\n",
    "        return 'you rated everything'\n",
    "    itemScores = []\n",
    "    for item in unratedItems:\n",
    "        estimatedScore = estMethod(dataMat,user,simMeas,item)\n",
    "        itemScores.append((item,estimatedScore))\n",
    "    return sorted(itemScores, key = lambda p:p[1], reverse=True)[:N]   #寻找前N个未评价物品"
   ]
  },
  {
   "cell_type": "code",
   "execution_count": 25,
   "id": "350c342e-7095-43cb-8224-b0c7db4187e5",
   "metadata": {},
   "outputs": [],
   "source": [
    "Data[0,1]=Data[0,0]=Data[1,0]=Data[2,0]=4\n",
    "Data[3,3]=2"
   ]
  },
  {
   "cell_type": "code",
   "execution_count": 29,
   "id": "8a95d6cf-1f2d-4f84-8e67-78372c2f98c8",
   "metadata": {},
   "outputs": [
    {
     "data": {
      "text/plain": [
       "[(2, 2.5), (1, 2.0243290220056256)]"
      ]
     },
     "execution_count": 29,
     "metadata": {},
     "output_type": "execute_result"
    }
   ],
   "source": [
    "#生成第2个用户的物品推荐结果和评分估计值\n",
    "recommend(Data,2)"
   ]
  },
  {
   "cell_type": "code",
   "execution_count": null,
   "id": "c3e136e1-6ef4-4920-9b24-247030a9b2a8",
   "metadata": {},
   "outputs": [],
   "source": []
  },
  {
   "cell_type": "code",
   "execution_count": 30,
   "id": "73725870-3925-484d-a4e0-15c12def512f",
   "metadata": {},
   "outputs": [],
   "source": [
    "#利用SVD提高推荐的效果"
   ]
  },
  {
   "cell_type": "code",
   "execution_count": 31,
   "id": "4e183b26-5ec2-4de1-a419-16d20d328d6b",
   "metadata": {},
   "outputs": [],
   "source": [
    "def loadExData2():\n",
    "    return[[0, 0, 0, 0, 0, 4, 0, 0, 0, 0, 5],\n",
    "           [0, 0, 0, 3, 0, 4, 0, 0, 0, 0, 3],\n",
    "           [0, 0, 0, 0, 4, 0, 0, 1, 0, 4, 0],\n",
    "           [3, 3, 4, 0, 0, 0, 0, 2, 2, 0, 0],\n",
    "           [5, 4, 5, 0, 0, 0, 0, 5, 5, 0, 0],\n",
    "           [0, 0, 0, 0, 5, 0, 1, 0, 0, 5, 0],\n",
    "           [4, 3, 4, 0, 0, 0, 0, 5, 5, 0, 1],\n",
    "           [0, 0, 0, 4, 0, 4, 0, 0, 0, 0, 4],\n",
    "           [0, 0, 0, 2, 0, 2, 5, 0, 0, 1, 2],\n",
    "           [0, 0, 0, 0, 5, 0, 0, 0, 0, 4, 0],\n",
    "           [1, 0, 0, 0, 0, 0, 0, 1, 2, 0, 0]]"
   ]
  },
  {
   "cell_type": "code",
   "execution_count": 32,
   "id": "a59fd879-0c7b-45d7-b8db-cad9003c2eca",
   "metadata": {},
   "outputs": [],
   "source": [
    "myData = loadExData2()\n",
    "U,Sigma,VT = linalg.svd(mat(myData))"
   ]
  },
  {
   "cell_type": "code",
   "execution_count": 34,
   "id": "aa8d9ee0-d316-4bff-a395-864a947e6b32",
   "metadata": {},
   "outputs": [],
   "source": [
    "def svdEst(dataMat,user,simMeas,item):\n",
    "    n = shape(dataMat)[1]\n",
    "    simTotal,ratSimTotal = 0.0,0.0\n",
    "    \n",
    "    U,Sigma,VT = linalg.svd(dataMat)         #进行svd分解，只利用包含90%能量值（方差和的90%分位数）的奇异值\n",
    "    Sig4 = mat(eye(4) * Sigma[:4])          #生成4*4的矩阵\n",
    "    xformedItems = dataMat.T * U[:,:4] * Sig4.I\n",
    "    \n",
    "    for j in range(n):\n",
    "        userRating = dataMat[user,j]\n",
    "        if userRating == 0 or j == item:\n",
    "            continue\n",
    "        similarity = simMeas(xformedItems[item,:].T,\n",
    "                            xformedItems[j,:].T)\n",
    "        simTotal += similarity\n",
    "        ratSimTotal += similarity * userRating         #相似度值 乘以用户对j物品的评分\n",
    "        \n",
    "    if simTotal == 0:\n",
    "        return 0\n",
    "    else:\n",
    "        return ratSimTotal/simTotal"
   ]
  },
  {
   "cell_type": "code",
   "execution_count": 35,
   "id": "1b110c73-86f9-4bb6-affe-8f55377b5ae5",
   "metadata": {},
   "outputs": [
    {
     "data": {
      "text/plain": [
       "[(4, 3.344714938469228), (7, 3.3294020724526967), (9, 3.328100876390069)]"
      ]
     },
     "execution_count": 35,
     "metadata": {},
     "output_type": "execute_result"
    }
   ],
   "source": [
    "recommend(mat(myData),1,estMethod=svdEst)"
   ]
  },
  {
   "cell_type": "code",
   "execution_count": 36,
   "id": "133c2e0d-03d5-4092-a691-d9593c1b3dce",
   "metadata": {},
   "outputs": [],
   "source": [
    "# 冷启动问题的解决方案，就是将推荐看成是搜索问题。在内部表现上，不同的解决办法虽然有所不同，但是对用户而言却都是透明的。为了将推荐看成是搜索问题，可能要使用所需要\n",
    "# 推荐物品的属性（标签）。同时，我们也可以将这些属性作为相似度计算所需要的数据，这被称为基于内容\n",
    "# (content-based)的推荐。可能，基于内容的推荐并不如前面介绍的基于协同过滤的推荐效果好 ，但拥有它，这就是个良好的开始。"
   ]
  },
  {
   "cell_type": "code",
   "execution_count": null,
   "id": "4deeeb29-1beb-4d84-9f25-640f14098b31",
   "metadata": {},
   "outputs": [],
   "source": []
  }
 ],
 "metadata": {
  "kernelspec": {
   "display_name": "Python 3 (ipykernel)",
   "language": "python",
   "name": "python3"
  },
  "language_info": {
   "codemirror_mode": {
    "name": "ipython",
    "version": 3
   },
   "file_extension": ".py",
   "mimetype": "text/x-python",
   "name": "python",
   "nbconvert_exporter": "python",
   "pygments_lexer": "ipython3",
   "version": "3.9.1"
  }
 },
 "nbformat": 4,
 "nbformat_minor": 5
}
