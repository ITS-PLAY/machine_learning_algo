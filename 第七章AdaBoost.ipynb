{
 "cells": [
  {
   "cell_type": "code",
   "execution_count": 49,
   "id": "989f0783-b624-4dbd-9f2b-1593566df438",
   "metadata": {},
   "outputs": [],
   "source": [
    "from numpy import *\n",
    "from pathlib import Path"
   ]
  },
  {
   "cell_type": "code",
   "execution_count": 4,
   "id": "9df36693-a200-4d11-90e7-0d42961145f7",
   "metadata": {},
   "outputs": [],
   "source": [
    "#7.3 基于单层决策树构建弱分类器"
   ]
  },
  {
   "cell_type": "code",
   "execution_count": 18,
   "id": "e55a5dbd-94ff-48be-a47e-b1e852c6d039",
   "metadata": {},
   "outputs": [],
   "source": [
    "def loadSimpData():\n",
    "    datMat = matrix([[ 1. ,  2.1],\n",
    "        [ 2. ,  1.1],\n",
    "        [ 1.3,  1. ],\n",
    "        [ 1. ,  1. ],\n",
    "        [ 2. ,  1. ]])\n",
    "    classLabels = [1.0, 1.0, -1.0, -1.0, 1.0]\n",
    "    return datMat,classLabels"
   ]
  },
  {
   "cell_type": "code",
   "execution_count": 19,
   "id": "6763f63b-2c39-4951-93b5-b338b91bc08a",
   "metadata": {},
   "outputs": [],
   "source": [
    "dataMat,classLabels = loadSimpData()"
   ]
  },
  {
   "cell_type": "code",
   "execution_count": 7,
   "id": "a4d64593-e5dc-494f-861f-d1bd6c7996da",
   "metadata": {},
   "outputs": [],
   "source": [
    "def stumpClassify(dataMatrix,dimen,threshVal,threshIneq):\n",
    "    retArray = ones((shape(dataMatrix)[0],1))\n",
    "    if threshIneq == 'lt':\n",
    "        retArray[dataMatrix[:,dimen] <= threshVal] = -1.0\n",
    "    else:\n",
    "        retArray[dataMatrix[:,dimen] > threshVal] = -1.0\n",
    "    return retArray"
   ]
  },
  {
   "cell_type": "code",
   "execution_count": 33,
   "id": "df0d0ca2-661c-4e6d-ae09-bf5b0064387b",
   "metadata": {},
   "outputs": [],
   "source": [
    "def buildStump(dataArr,classLabels,D):\n",
    "    dataMatrix = mat(dataArr)\n",
    "    labelMat = mat(classLabels).T\n",
    "    \n",
    "    m,n = shape(dataMatrix)\n",
    "    \n",
    "    numSteps = 10.0\n",
    "    bestStump = {}\n",
    "    bestClasEst = mat(zeros((m,1)))\n",
    "    \n",
    "    minError = inf\n",
    "    \n",
    "    for i in range(n):\n",
    "        rangeMin = dataMatrix[:,i].min()\n",
    "        rangeMax = dataMatrix[:,i].max()\n",
    "        \n",
    "        stepSize = (rangeMax - rangeMin)/numSteps\n",
    "        \n",
    "        for j in range(-1,int(numSteps) + 1):\n",
    "            for inequal in ['lt','gt']:\n",
    "                threshVal = rangeMin + float(j) * stepSize\n",
    "                predictedVals = stumpClassify(dataMatrix,i,threshVal,inequal)\n",
    "                errArr = mat(ones((m,1)))\n",
    "                \n",
    "                errArr[predictedVals == labelMat] = 0\n",
    "                weightedError = D.T * errArr\n",
    "                \n",
    "                if weightedError < minError:\n",
    "                    minError = weightedError\n",
    "                    bestClasEst = predictedVals.copy()\n",
    "                    bestStump['dim'] = i\n",
    "                    bestStump['thresh'] = threshVal\n",
    "                    bestStump['ineq'] = inequal\n",
    "    return bestStump,minError,bestClasEst\n",
    "    "
   ]
  },
  {
   "cell_type": "code",
   "execution_count": 34,
   "id": "cf2cfc42-56ab-4067-b8e8-9f3e913a66e6",
   "metadata": {},
   "outputs": [],
   "source": [
    "D = mat(ones((5,1))/5)"
   ]
  },
  {
   "cell_type": "code",
   "execution_count": 35,
   "id": "ec72fdca-2a1c-4dce-b509-48276904b7d7",
   "metadata": {},
   "outputs": [
    {
     "data": {
      "text/plain": [
       "({'dim': 0, 'thresh': 1.3, 'ineq': 'lt'},\n",
       " matrix([[0.2]]),\n",
       " array([[-1.],\n",
       "        [ 1.],\n",
       "        [-1.],\n",
       "        [-1.],\n",
       "        [ 1.]]))"
      ]
     },
     "execution_count": 35,
     "metadata": {},
     "output_type": "execute_result"
    }
   ],
   "source": [
    "buildStump(dataMat,classLabels,D)"
   ]
  },
  {
   "cell_type": "code",
   "execution_count": null,
   "id": "4c332d16-c5c9-4f1d-a730-1960e15157e4",
   "metadata": {},
   "outputs": [],
   "source": []
  },
  {
   "cell_type": "code",
   "execution_count": 36,
   "id": "4619e52e-5f92-4f75-94e0-842bb4576b50",
   "metadata": {},
   "outputs": [],
   "source": [
    "#7.4 完整的多个弱分类器版的AdaBoost算法"
   ]
  },
  {
   "cell_type": "code",
   "execution_count": 37,
   "id": "b5b54e2c-97f7-429d-b659-6e69fcd02403",
   "metadata": {},
   "outputs": [],
   "source": [
    "def adaBoostTrainDS(dataArr,classLabels,numIt = 40):\n",
    "    weakClassArr = []\n",
    "    m = shape(dataArr)[0]\n",
    "    D = mat(ones((m,1))/m)\n",
    "    aggClassEst = mat(zeros((m,1)))\n",
    "    for i in range(numIt):\n",
    "        bestStump,error,classEst = buildStump(dataArr,classLabels,D)\n",
    "        \n",
    "        alpha = float(0.5*log((1.0-error)/max(error,1e-16)))\n",
    "        bestStump['alpha'] = alpha\n",
    "        weakClassArr.append(bestStump)\n",
    "        \n",
    "        expon = multiply(-1 * alpha * mat(classLabels).T, classEst)\n",
    "        D = multiply(D,exp(expon))\n",
    "        \n",
    "        D = D/D.sum()\n",
    "        \n",
    "        aggClassEst += alpha * classEst\n",
    "        \n",
    "        aggErrors = multiply(sign(aggClassEst) != mat(classLabels).T, ones((m,1)))\n",
    "        errorRate = aggErrors.sum()/m\n",
    "        \n",
    "        print('total error: ',errorRate,'\\n')\n",
    "        if errorRate == 0.0:\n",
    "            break\n",
    "    return weakClassArr"
   ]
  },
  {
   "cell_type": "code",
   "execution_count": 43,
   "id": "ec8dfc0e-6256-4acb-828a-152ff2e471cc",
   "metadata": {},
   "outputs": [
    {
     "name": "stdout",
     "output_type": "stream",
     "text": [
      "total error:  0.2 \n",
      "\n",
      "total error:  0.2 \n",
      "\n",
      "total error:  0.0 \n",
      "\n"
     ]
    }
   ],
   "source": [
    "classifierArr = adaBoostTrainDS(dataMat,classLabels,9)"
   ]
  },
  {
   "cell_type": "code",
   "execution_count": 46,
   "id": "59d214fa-4e2e-4de7-9b61-adf282ae106b",
   "metadata": {},
   "outputs": [],
   "source": [
    "#测试算法：累加多个分类器在同一数据集上，得到最终的分类结果"
   ]
  },
  {
   "cell_type": "code",
   "execution_count": 86,
   "id": "59c934e6-a079-4f49-9012-04cd50358bed",
   "metadata": {},
   "outputs": [],
   "source": [
    "def adaClassify(datToClass, classifierArr):\n",
    "    dataMatrix = mat(datToClass)\n",
    "    m = shape(dataMatrix)[0]\n",
    "    \n",
    "    aggClassEst = mat(zeros((m,1)))\n",
    "    for i in range(len(classifierArr)):\n",
    "        classEst = stumpClassify(dataMatrix,classifierArr[i]['dim'],\n",
    "                                classifierArr[i]['thresh'],\n",
    "                                classifierArr[i]['ineq'])\n",
    "        aggClassEst += classifierArr[i]['alpha'] * classEst\n",
    "    return sign(aggClassEst)"
   ]
  },
  {
   "cell_type": "code",
   "execution_count": 42,
   "id": "ef9e6648-31cc-4431-9a97-38397f60c7e7",
   "metadata": {},
   "outputs": [],
   "source": [
    "dataMat,classLabels = loadSimpData()"
   ]
  },
  {
   "cell_type": "code",
   "execution_count": 44,
   "id": "1f913cdb-38a5-422e-b104-8ace1dd75749",
   "metadata": {},
   "outputs": [
    {
     "name": "stdout",
     "output_type": "stream",
     "text": [
      "[[-0.69314718]]\n",
      "[[-1.66610226]]\n",
      "[[-2.56198199]]\n"
     ]
    },
    {
     "data": {
      "text/plain": [
       "matrix([[-1.]])"
      ]
     },
     "execution_count": 44,
     "metadata": {},
     "output_type": "execute_result"
    }
   ],
   "source": [
    "adaClassify([0,0],classifierArr)"
   ]
  },
  {
   "cell_type": "code",
   "execution_count": 45,
   "id": "0db8ac6d-2e25-4e96-a487-ca2ab2d3764a",
   "metadata": {},
   "outputs": [
    {
     "name": "stdout",
     "output_type": "stream",
     "text": [
      "[[ 0.69314718]\n",
      " [-0.69314718]]\n",
      "[[ 1.66610226]\n",
      " [-1.66610226]]\n",
      "[[ 2.56198199]\n",
      " [-2.56198199]]\n"
     ]
    },
    {
     "data": {
      "text/plain": [
       "matrix([[ 1.],\n",
       "        [-1.]])"
      ]
     },
     "execution_count": 45,
     "metadata": {},
     "output_type": "execute_result"
    }
   ],
   "source": [
    "adaClassify([[5,5],[0,0]],classifierArr)"
   ]
  },
  {
   "cell_type": "code",
   "execution_count": null,
   "id": "c240c4b5-1111-4415-94db-0dde9d658102",
   "metadata": {},
   "outputs": [],
   "source": []
  },
  {
   "cell_type": "code",
   "execution_count": 47,
   "id": "44bbfee2-3c14-41db-afe1-de60a3292921",
   "metadata": {},
   "outputs": [],
   "source": [
    "#应用AdaBoost算法"
   ]
  },
  {
   "cell_type": "code",
   "execution_count": 70,
   "id": "7e6efc27-02ea-4329-bbe6-65a5664bc7d2",
   "metadata": {},
   "outputs": [],
   "source": [
    "def loadDataSet(fileName):\n",
    "    numFeat = len(open(fileName).readline().split('\\t'))\n",
    "    dataMat = []\n",
    "    labelMat = []\n",
    "    \n",
    "    fr = open(fileName)\n",
    "    for line in fr.readlines():\n",
    "        lineArr = []\n",
    "        curLine = line.strip().split('\\t')\n",
    "        for i in range(numFeat - 1):\n",
    "            lineArr.append(float(curLine[i]))\n",
    "        dataMat.append(lineArr)\n",
    "        labelMat.append(float(curLine[-1]))\n",
    "    return dataMat,labelMat"
   ]
  },
  {
   "cell_type": "code",
   "execution_count": 71,
   "id": "71989a73-a1ce-4e48-85e0-7212245b214c",
   "metadata": {},
   "outputs": [],
   "source": [
    "data_path = Path('D:\\python_algorithm\\machinelearinginaction\\《机器学习实战》Python3代码\\Ch07')"
   ]
  },
  {
   "cell_type": "code",
   "execution_count": 72,
   "id": "ef58b7ad-0d8f-4954-915f-d8914d27f240",
   "metadata": {},
   "outputs": [],
   "source": [
    "datArr,labelArr = loadDataSet(data_path / 'horseColicTraining2.txt')"
   ]
  },
  {
   "cell_type": "code",
   "execution_count": 82,
   "id": "eb6cbde8-e478-4092-b81b-bb7da8f93a0d",
   "metadata": {},
   "outputs": [
    {
     "data": {
      "text/plain": [
       "(299, 1)"
      ]
     },
     "execution_count": 82,
     "metadata": {},
     "output_type": "execute_result"
    }
   ],
   "source": [
    "shape(mat(labelArr).T)"
   ]
  },
  {
   "cell_type": "code",
   "execution_count": 75,
   "id": "9ee7ab9f-4c02-4d36-8586-37f00117a6fd",
   "metadata": {},
   "outputs": [
    {
     "name": "stdout",
     "output_type": "stream",
     "text": [
      "total error:  0.2842809364548495 \n",
      "\n",
      "total error:  0.2842809364548495 \n",
      "\n",
      "total error:  0.24749163879598662 \n",
      "\n",
      "total error:  0.24749163879598662 \n",
      "\n",
      "total error:  0.25418060200668896 \n",
      "\n",
      "total error:  0.2408026755852843 \n",
      "\n",
      "total error:  0.2408026755852843 \n",
      "\n",
      "total error:  0.22073578595317725 \n",
      "\n",
      "total error:  0.24749163879598662 \n",
      "\n",
      "total error:  0.23076923076923078 \n",
      "\n"
     ]
    }
   ],
   "source": [
    "classfierArray = adaBoostTrainDS(datArr,labelArr,10)"
   ]
  },
  {
   "cell_type": "code",
   "execution_count": 76,
   "id": "5f70e1ec-e5bf-41a5-98df-2195358204d4",
   "metadata": {},
   "outputs": [],
   "source": [
    "testArr,testLabelArr = loadDataSet(data_path / 'horseColicTest2.txt')"
   ]
  },
  {
   "cell_type": "code",
   "execution_count": 87,
   "id": "ef3a4cc1-d6fd-4de4-bcda-512cb4987f56",
   "metadata": {},
   "outputs": [],
   "source": [
    "prediction10 = adaClassify(testArr,classfierArray)"
   ]
  },
  {
   "cell_type": "code",
   "execution_count": 83,
   "id": "c700a0a4-9af7-4bdc-9259-b8b19b6a3d29",
   "metadata": {},
   "outputs": [
    {
     "data": {
      "text/plain": [
       "16.0"
      ]
     },
     "execution_count": 83,
     "metadata": {},
     "output_type": "execute_result"
    }
   ],
   "source": [
    "errArr = mat(ones((67,1)))\n",
    "errArr[prediction10 != mat(testLabelArr).T].sum()"
   ]
  },
  {
   "cell_type": "code",
   "execution_count": null,
   "id": "fb25fcc8-fe3f-4cea-8ab1-57eac5e4869d",
   "metadata": {},
   "outputs": [],
   "source": []
  },
  {
   "cell_type": "code",
   "execution_count": 84,
   "id": "a5b2f5db-47f2-4ca2-a6d6-a76df5aed337",
   "metadata": {},
   "outputs": [],
   "source": [
    "#ROC曲线"
   ]
  },
  {
   "cell_type": "code",
   "execution_count": 85,
   "id": "c7a1df18-1d56-431a-b84a-b0a9b33d1432",
   "metadata": {},
   "outputs": [],
   "source": [
    "def plotROC(predStrengths, classLabels):\n",
    "    import matplotlib.pyplot as plt\n",
    "    cur = (1.0,1.0) #cursor\n",
    "    ySum = 0.0 #variable to calculate AUC\n",
    "    numPosClas = sum(array(classLabels)==1.0)\n",
    "    yStep = 1/float(numPosClas); xStep = 1/float(len(classLabels)-numPosClas)\n",
    "    sortedIndicies = predStrengths.argsort()#get sorted index, it's reverse\n",
    "    fig = plt.figure()\n",
    "    fig.clf()\n",
    "    ax = plt.subplot(111)\n",
    "    #loop through all the values, drawing a line segment at each point\n",
    "    for index in sortedIndicies.tolist()[0]:\n",
    "        if classLabels[index] == 1.0:\n",
    "            delX = 0; delY = yStep;\n",
    "        else:\n",
    "            delX = xStep; delY = 0;\n",
    "            ySum += cur[1]\n",
    "        #draw line from cur to (cur[0]-delX,cur[1]-delY)\n",
    "        ax.plot([cur[0],cur[0]-delX],[cur[1],cur[1]-delY], c='b')\n",
    "        cur = (cur[0]-delX,cur[1]-delY)\n",
    "    ax.plot([0,1],[0,1],'b--')\n",
    "    plt.xlabel('False positive rate'); plt.ylabel('True positive rate')\n",
    "    plt.title('ROC curve for AdaBoost horse colic detection system')\n",
    "    ax.axis([0,1,0,1])\n",
    "    plt.show()\n",
    "    print(\"the Area Under the Curve is: \",ySum*xStep)"
   ]
  },
  {
   "cell_type": "code",
   "execution_count": null,
   "id": "f725248d-0bfd-47c6-8e8b-5ddb41092c3f",
   "metadata": {},
   "outputs": [],
   "source": []
  },
  {
   "cell_type": "code",
   "execution_count": 88,
   "id": "b6d01239-4e4b-440e-9509-46b9381585b7",
   "metadata": {},
   "outputs": [],
   "source": [
    "def adaBoostTrainDS(dataArr,classLabels,numIt = 40):\n",
    "    weakClassArr = []\n",
    "    m = shape(dataArr)[0]\n",
    "    D = mat(ones((m,1))/m)\n",
    "    aggClassEst = mat(zeros((m,1)))\n",
    "    for i in range(numIt):\n",
    "        bestStump,error,classEst = buildStump(dataArr,classLabels,D)\n",
    "        \n",
    "        alpha = float(0.5*log((1.0-error)/max(error,1e-16)))\n",
    "        bestStump['alpha'] = alpha\n",
    "        weakClassArr.append(bestStump)\n",
    "        \n",
    "        expon = multiply(-1 * alpha * mat(classLabels).T, classEst)\n",
    "        D = multiply(D,exp(expon))\n",
    "        \n",
    "        D = D/D.sum()\n",
    "        \n",
    "        aggClassEst += alpha * classEst\n",
    "        \n",
    "        aggErrors = multiply(sign(aggClassEst) != mat(classLabels).T, ones((m,1)))\n",
    "        errorRate = aggErrors.sum()/m\n",
    "        \n",
    "        print('total error: ',errorRate,'\\n')\n",
    "        if errorRate == 0.0:\n",
    "            break\n",
    "    return weakClassArr,aggClassEst"
   ]
  },
  {
   "cell_type": "code",
   "execution_count": 89,
   "id": "ea885acb-1f50-4722-9e9e-c691ccdde9a2",
   "metadata": {},
   "outputs": [
    {
     "name": "stdout",
     "output_type": "stream",
     "text": [
      "total error:  0.2842809364548495 \n",
      "\n",
      "total error:  0.2842809364548495 \n",
      "\n",
      "total error:  0.24749163879598662 \n",
      "\n",
      "total error:  0.24749163879598662 \n",
      "\n",
      "total error:  0.25418060200668896 \n",
      "\n",
      "total error:  0.2408026755852843 \n",
      "\n",
      "total error:  0.2408026755852843 \n",
      "\n",
      "total error:  0.22073578595317725 \n",
      "\n",
      "total error:  0.24749163879598662 \n",
      "\n",
      "total error:  0.23076923076923078 \n",
      "\n"
     ]
    }
   ],
   "source": [
    "classifierArray,aggClassEst = adaBoostTrainDS(datArr,labelArr,10)"
   ]
  },
  {
   "cell_type": "code",
   "execution_count": 90,
   "id": "91ae64dd-ba30-49eb-948b-4c139332614c",
   "metadata": {},
   "outputs": [
    {
     "data": {
      "image/png": "[encoded data removed]",
      "text/plain": [
       "<Figure size 432x288 with 1 Axes>"
      ]
     },
     "metadata": {
      "needs_background": "light"
     },
     "output_type": "display_data"
    },
    {
     "name": "stdout",
     "output_type": "stream",
     "text": [
      "the Area Under the Curve is:  0.8582969635063604\n"
     ]
    }
   ],
   "source": [
    "plotROC(aggClassEst.T,labelArr)"
   ]
  },
  {
   "cell_type": "code",
   "execution_count": null,
   "id": "c5135ccd-8bec-43f4-8f00-7d212c7fb7ea",
   "metadata": {},
   "outputs": [],
   "source": []
  }
 ],
 "metadata": {
  "kernelspec": {
   "display_name": "Python 3 (ipykernel)",
   "language": "python",
   "name": "python3"
  },
  "language_info": {
   "codemirror_mode": {
    "name": "ipython",
    "version": 3
   },
   "file_extension": ".py",
   "mimetype": "text/x-python",
   "name": "python",
   "nbconvert_exporter": "python",
   "pygments_lexer": "ipython3",
   "version": "3.9.1"
  }
 },
 "nbformat": 4,
 "nbformat_minor": 5
}
