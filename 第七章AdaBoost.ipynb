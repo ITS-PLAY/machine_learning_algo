{
 "cells": [
  {
   "cell_type": "code",
   "execution_count": 1,
   "id": "989f0783-b624-4dbd-9f2b-1593566df438",
   "metadata": {},
   "outputs": [],
   "source": [
    "from numpy import *"
   ]
  },
  {
   "cell_type": "code",
   "execution_count": 4,
   "id": "9df36693-a200-4d11-90e7-0d42961145f7",
   "metadata": {},
   "outputs": [],
   "source": [
    "#7.3 基于单层决策树构建弱分类器"
   ]
  },
  {
   "cell_type": "code",
   "execution_count": 18,
   "id": "e55a5dbd-94ff-48be-a47e-b1e852c6d039",
   "metadata": {},
   "outputs": [],
   "source": [
    "def loadSimpData():\n",
    "    datMat = matrix([[ 1. ,  2.1],\n",
    "        [ 2. ,  1.1],\n",
    "        [ 1.3,  1. ],\n",
    "        [ 1. ,  1. ],\n",
    "        [ 2. ,  1. ]])\n",
    "    classLabels = [1.0, 1.0, -1.0, -1.0, 1.0]\n",
    "    return datMat,classLabels"
   ]
  },
  {
   "cell_type": "code",
   "execution_count": 19,
   "id": "6763f63b-2c39-4951-93b5-b338b91bc08a",
   "metadata": {},
   "outputs": [],
   "source": [
    "dataMat,classLabels = loadSimpData()"
   ]
  },
  {
   "cell_type": "code",
   "execution_count": 7,
   "id": "a4d64593-e5dc-494f-861f-d1bd6c7996da",
   "metadata": {},
   "outputs": [],
   "source": [
    "def stumpClassify(dataMatrix,dimen,threshVal,threshIneq):\n",
    "    retArray = ones((shape(dataMatrix)[0],1))\n",
    "    if threshIneq == 'lt':\n",
    "        retArray[dataMatrix[:,dimen] <= threshVal] = -1.0\n",
    "    else:\n",
    "        retArray[dataMatrix[:,dimen] > threshVal] = -1.0\n",
    "    return retArray"
   ]
  },
  {
   "cell_type": "code",
   "execution_count": 33,
   "id": "df0d0ca2-661c-4e6d-ae09-bf5b0064387b",
   "metadata": {},
   "outputs": [],
   "source": [
    "def buildStump(dataArr,classLabels,D):\n",
    "    dataMatrix = mat(dataArr)\n",
    "    labelMat = mat(classLabels).T\n",
    "    \n",
    "    m,n = shape(dataMatrix)\n",
    "    \n",
    "    numSteps = 10.0\n",
    "    bestStump = {}\n",
    "    bestClasEst = mat(zeros((m,1)))\n",
    "    \n",
    "    minError = inf\n",
    "    \n",
    "    for i in range(n):\n",
    "        rangeMin = dataMatrix[:,i].min()\n",
    "        rangeMax = dataMatrix[:,i].max()\n",
    "        \n",
    "        stepSize = (rangeMax - rangeMin)/numSteps\n",
    "        \n",
    "        for j in range(-1,int(numSteps) + 1):\n",
    "            for inequal in ['lt','gt']:\n",
    "                threshVal = rangeMin + float(j) * stepSize\n",
    "                predictedVals = stumpClassify(dataMatrix,i,threshVal,inequal)\n",
    "                errArr = mat(ones((m,1)))\n",
    "                \n",
    "                errArr[predictedVals == labelMat] = 0\n",
    "                weightedError = D.T * errArr\n",
    "                \n",
    "                if weightedError < minError:\n",
    "                    minError = weightedError\n",
    "                    bestClasEst = predictedVals.copy()\n",
    "                    bestStump['dim'] = i\n",
    "                    bestStump['thresh'] = threshVal\n",
    "                    bestStump['ineq'] = inequal\n",
    "    return bestStump,minError,bestClasEst\n",
    "    "
   ]
  },
  {
   "cell_type": "code",
   "execution_count": 34,
   "id": "cf2cfc42-56ab-4067-b8e8-9f3e913a66e6",
   "metadata": {},
   "outputs": [],
   "source": [
    "D = mat(ones((5,1))/5)"
   ]
  },
  {
   "cell_type": "code",
   "execution_count": 35,
   "id": "ec72fdca-2a1c-4dce-b509-48276904b7d7",
   "metadata": {},
   "outputs": [
    {
     "data": {
      "text/plain": [
       "({'dim': 0, 'thresh': 1.3, 'ineq': 'lt'},\n",
       " matrix([[0.2]]),\n",
       " array([[-1.],\n",
       "        [ 1.],\n",
       "        [-1.],\n",
       "        [-1.],\n",
       "        [ 1.]]))"
      ]
     },
     "execution_count": 35,
     "metadata": {},
     "output_type": "execute_result"
    }
   ],
   "source": [
    "buildStump(dataMat,classLabels,D)"
   ]
  },
  {
   "cell_type": "code",
   "execution_count": null,
   "id": "4c332d16-c5c9-4f1d-a730-1960e15157e4",
   "metadata": {},
   "outputs": [],
   "source": []
  },
  {
   "cell_type": "code",
   "execution_count": 36,
   "id": "4619e52e-5f92-4f75-94e0-842bb4576b50",
   "metadata": {},
   "outputs": [],
   "source": [
    "#7.4 完整的多个弱分类器版的AdaBoost算法"
   ]
  },
  {
   "cell_type": "code",
   "execution_count": 37,
   "id": "b5b54e2c-97f7-429d-b659-6e69fcd02403",
   "metadata": {},
   "outputs": [],
   "source": [
    "def adaBoostTrainDS(dataArr,classLabels,numIt = 40):\n",
    "    weakClassArr = []\n",
    "    m = shape(dataArr)[0]\n",
    "    D = mat(ones((m,1))/m)\n",
    "    aggClassEst = mat(zeros((m,1)))\n",
    "    for i in range(numIt):\n",
    "        bestStump,error,classEst = buildStump(dataArr,classLabels,D)\n",
    "        \n",
    "        alpha = float(0.5*log((1.0-error)/max(error,1e-16)))\n",
    "        bestStump['alpha'] = alpha\n",
    "        weakClassArr.append(bestStump)\n",
    "        \n",
    "        expon = multiply(-1 * alpha * mat(classLabels).T, classEst)\n",
    "        D = multiply(D,exp(expon))\n",
    "        \n",
    "        D = D/D.sum()\n",
    "        \n",
    "        aggClassEst += alpha * classEst\n",
    "        \n",
    "        aggErrors = multiply(sign(aggClassEst) != mat(classLabels).T, ones((m,1)))\n",
    "        errorRate = aggErrors.sum()/m\n",
    "        \n",
    "        print('total error: ',errorRate,'\\n')\n",
    "        if errorRate == 0.0:\n",
    "            break\n",
    "    return weakClassArr"
   ]
  },
  {
   "cell_type": "code",
   "execution_count": 38,
   "id": "ec8dfc0e-6256-4acb-828a-152ff2e471cc",
   "metadata": {},
   "outputs": [
    {
     "name": "stdout",
     "output_type": "stream",
     "text": [
      "total error:  0.2 \n",
      "\n",
      "total error:  0.2 \n",
      "\n",
      "total error:  0.0 \n",
      "\n"
     ]
    },
    {
     "data": {
      "text/plain": [
       "[{'dim': 0, 'thresh': 1.3, 'ineq': 'lt', 'alpha': 0.6931471805599453},\n",
       " {'dim': 1, 'thresh': 1.0, 'ineq': 'lt', 'alpha': 0.9729550745276565},\n",
       " {'dim': 0, 'thresh': 0.9, 'ineq': 'lt', 'alpha': 0.8958797346140273}]"
      ]
     },
     "execution_count": 38,
     "metadata": {},
     "output_type": "execute_result"
    }
   ],
   "source": [
    "adaBoostTrainDS(dataMat,classLabels,9)"
   ]
  },
  {
   "cell_type": "code",
   "execution_count": null,
   "id": "59d214fa-4e2e-4de7-9b61-adf282ae106b",
   "metadata": {},
   "outputs": [],
   "source": []
  }
 ],
 "metadata": {
  "kernelspec": {
   "display_name": "Python 3 (ipykernel)",
   "language": "python",
   "name": "python3"
  },
  "language_info": {
   "codemirror_mode": {
    "name": "ipython",
    "version": 3
   },
   "file_extension": ".py",
   "mimetype": "text/x-python",
   "name": "python",
   "nbconvert_exporter": "python",
   "pygments_lexer": "ipython3",
   "version": "3.9.1"
  }
 },
 "nbformat": 4,
 "nbformat_minor": 5
}
