{
 "cells": [
  {
   "cell_type": "code",
   "execution_count": 1,
   "id": "46dd0acb-e81f-43af-9122-c0a221bb5c75",
   "metadata": {},
   "outputs": [],
   "source": [
    "from numpy import *\n",
    "from pathlib import Path"
   ]
  },
  {
   "cell_type": "code",
   "execution_count": 2,
   "id": "9f9b03a7-b608-426b-b9c8-b4b74750f75e",
   "metadata": {},
   "outputs": [],
   "source": [
    "#决策树是一种贪心算法。在给定时间内做出最佳选择，并不关系能否达到全局最优。"
   ]
  },
  {
   "cell_type": "code",
   "execution_count": 3,
   "id": "ff625d00-0d37-4441-af4b-038738019176",
   "metadata": {},
   "outputs": [],
   "source": [
    "#构建树节点"
   ]
  },
  {
   "cell_type": "code",
   "execution_count": 4,
   "id": "c04ed9e8-7e99-429f-b487-36b5787ad17a",
   "metadata": {},
   "outputs": [],
   "source": [
    "class treeNode():\n",
    "    def __init__(self,feat,val,right,left):\n",
    "        featureToSplitOn = feat\n",
    "        valueOfSplit = val\n",
    "        rightBranch = right\n",
    "        leftBranch = left"
   ]
  },
  {
   "cell_type": "code",
   "execution_count": null,
   "id": "22a73c00-5f4b-4e4d-ab18-e60610a68954",
   "metadata": {},
   "outputs": [],
   "source": []
  },
  {
   "cell_type": "code",
   "execution_count": 5,
   "id": "8edc48a6-227e-47aa-bf72-4018eaddbce3",
   "metadata": {},
   "outputs": [],
   "source": [
    "#CART算法"
   ]
  },
  {
   "cell_type": "code",
   "execution_count": 46,
   "id": "13b24a49-bc03-4866-9cb1-3171c13179c4",
   "metadata": {},
   "outputs": [],
   "source": [
    "def regLeaf(dataSet):\n",
    "    return mean(dataSet[:,-1])\n",
    "\n",
    "def regErr(dataSet):\n",
    "    return var(dataSet[:,-1]) * shape(dataSet)[0]\n",
    "\n",
    "def chooseBestSplit(dataSet,leafType=regLeaf,errType=regErr,ops=(1,4)):  #选取最优特征的最优切分点\n",
    "    tolS = ops[0]\n",
    "    tolN = ops[1]\n",
    "    if len(set(dataSet[:,-1].T.tolist()[0])) == 1:\n",
    "        return None,leafType(dataSet)                #根据叶节点的计算方式不同，返回不同的值或结构\n",
    "    m,n = shape(dataSet)\n",
    "    S = errType(dataSet)\n",
    "    bestS,bestIndex,bestValue = float(inf),0,0\n",
    "    \n",
    "    for featIndex in range(n-1):\n",
    "        for splitVal in set(dataSet[:,featIndex].T.tolist()[0]):\n",
    "            mat0,mat1 = binSplitDataSet(dataSet,featIndex,splitVal)\n",
    "            \n",
    "            if shape(mat0)[0] < tolN or shape(mat1)[0] < tolN:   #每个叶子节点的数据量阈值\n",
    "                continue\n",
    "                \n",
    "            newS = errType(mat0) + errType(mat1)\n",
    "            if newS < bestS:\n",
    "                bestIndex = featIndex\n",
    "                bestValue = splitVal\n",
    "                bestS = newS\n",
    "                \n",
    "    if S - bestS < tolS:                         #误差的阈值\n",
    "        return None,leafType(dataSet)\n",
    "    mat0,mat1 = binSplitDataSet(dataSet,bestIndex,bestValue)\n",
    "\n",
    "    if shape(mat0)[0] < tolN or shape(mat1)[0] < tolN:\n",
    "        return None,leafType(dataSet)\n",
    "    \n",
    "    return bestIndex,bestValue"
   ]
  },
  {
   "cell_type": "code",
   "execution_count": 47,
   "id": "18eae5f0-9392-4a57-a5f0-d6a11f30078d",
   "metadata": {},
   "outputs": [],
   "source": [
    "def loadDataSet(fileName):\n",
    "    dataMat = []\n",
    "    fr = open(fileName)\n",
    "    \n",
    "    for line in fr.readlines():\n",
    "        curLine = line.strip().split('\\t')\n",
    "        fltLine = list(map(float,curLine))\n",
    "        dataMat.append(fltLine)\n",
    "    return dataMat\n",
    "\n",
    "def binSplitDataSet(dataSet,feature,value):\n",
    "    mat0 = dataSet[nonzero(dataSet[:,feature] > value)[0],:]\n",
    "    mat1 = dataSet[nonzero(dataSet[:,feature] <= value)[0],:]\n",
    "    return mat0,mat1\n",
    "\n",
    "def createTree(dataSet,leafType=regLeaf,errType=regErr,ops=(1,4)):\n",
    "    feat,val = chooseBestSplit(dataSet,leafType,errType,ops)\n",
    "    if feat == None:\n",
    "        return val\n",
    "    retTree = {}\n",
    "    retTree['spInd'] = feat\n",
    "    retTree['spVal'] = val\n",
    "    lSet,rSet = binSplitDataSet(dataSet,feat,val)\n",
    "    retTree['left'] = createTree(lSet,leafType,errType,ops)\n",
    "    retTree['right'] = createTree(rSet,leafType,errType,ops)\n",
    "    return retTree"
   ]
  },
  {
   "cell_type": "code",
   "execution_count": null,
   "id": "37ca3ec6-6809-4cdf-84d6-deb3833672a5",
   "metadata": {},
   "outputs": [],
   "source": []
  },
  {
   "cell_type": "code",
   "execution_count": 38,
   "id": "375e7e2d-7d68-48e8-97c4-bb19b6d9c2ee",
   "metadata": {},
   "outputs": [],
   "source": [
    "data_path = Path('D:\\python_algorithm\\machinelearinginaction\\《机器学习实战》Python3代码\\Ch09')"
   ]
  },
  {
   "cell_type": "code",
   "execution_count": 39,
   "id": "1aa37e0c-534d-44c6-8b43-66d983ff6cc6",
   "metadata": {},
   "outputs": [],
   "source": [
    "myDat = loadDataSet(data_path / 'ex00.txt')"
   ]
  },
  {
   "cell_type": "code",
   "execution_count": 40,
   "id": "a1a0754f-ae1f-4283-ae61-c32225597519",
   "metadata": {},
   "outputs": [],
   "source": [
    "myMat = mat(myDat)"
   ]
  },
  {
   "cell_type": "code",
   "execution_count": 48,
   "id": "ad8b4919-1d79-401b-8d8d-e592dc5dfd6f",
   "metadata": {},
   "outputs": [
    {
     "data": {
      "text/plain": [
       "{'spInd': 0,\n",
       " 'spVal': 0.48813,\n",
       " 'left': 1.0180967672413792,\n",
       " 'right': -0.04465028571428572}"
      ]
     },
     "execution_count": 48,
     "metadata": {},
     "output_type": "execute_result"
    }
   ],
   "source": [
    "createTree(myMat)"
   ]
  },
  {
   "cell_type": "code",
   "execution_count": null,
   "id": "2c2376dd-bcd0-4a43-ac73-80c4322c7079",
   "metadata": {},
   "outputs": [],
   "source": []
  },
  {
   "cell_type": "code",
   "execution_count": 49,
   "id": "0bed6860-e1eb-4b3d-a5b1-949376872e5d",
   "metadata": {},
   "outputs": [],
   "source": [
    "##9.4 树剪枝"
   ]
  },
  {
   "cell_type": "code",
   "execution_count": 58,
   "id": "2c5fd312-d718-4b30-8bc1-509e0e296954",
   "metadata": {},
   "outputs": [],
   "source": [
    "def isTree(obj):\n",
    "    return (type(obj).__name__=='dict')\n",
    "\n",
    "def getMean(tree):\n",
    "    if isTree(tree['right']):\n",
    "        tree['right'] = getMean(tree['right'])\n",
    "    if isTree(tree['left']):\n",
    "        tree['left'] = getMean(tree['left'])\n",
    "    return (tree['left'] + tree['right'])/2.0\n",
    "\n",
    "def prune(tree,testData):\n",
    "    if shape(testData)[0] == 0:\n",
    "        return getMean(tree)\n",
    "    if isTree(tree['right']) or isTree(tree['left']):\n",
    "        lSet,rSet = binSplitDataSet(testData,tree['spInd'],tree['spVal'])\n",
    "        \n",
    "    if isTree(tree['left']):\n",
    "        tree['left'] = prune(tree['left'],lSet)\n",
    "    if isTree(tree['right']):\n",
    "        tree['right'] = prune(tree['right'],rSet)\n",
    "        \n",
    "    if not isTree(tree['right']) and not isTree(tree['left']):\n",
    "        lSet,rSet = binSplitDataSet(testData,tree['spInd'], tree['spVal'])\n",
    "        errorNoMerge = sum(power(lSet[:,-1] - tree['left'],2)) + \\\n",
    "                        sum(power(rSet[:,-1] - tree['right'],2))\n",
    "        \n",
    "        treeMean = (tree['left'] + tree['right'])/2.0\n",
    "        errorMerge = sum(power(testData[:,-1] - treeMean,2))\n",
    "        \n",
    "        if errorMerge < errorNoMerge:\n",
    "            print('merging')\n",
    "            return treeMean\n",
    "        else:\n",
    "            return tree\n",
    "    else:\n",
    "        return tree"
   ]
  },
  {
   "cell_type": "code",
   "execution_count": null,
   "id": "229599cf-af38-473e-8abb-3f9192361fea",
   "metadata": {},
   "outputs": [],
   "source": []
  },
  {
   "cell_type": "code",
   "execution_count": 51,
   "id": "2023b7be-1a8f-46de-ad5b-31d6495581a9",
   "metadata": {},
   "outputs": [],
   "source": [
    "myDat2 = loadDataSet(data_path / 'ex2.txt')"
   ]
  },
  {
   "cell_type": "code",
   "execution_count": 52,
   "id": "5d067577-61d0-4852-a8d1-888bf36ab8e9",
   "metadata": {},
   "outputs": [],
   "source": [
    "myMat2 = mat(myDat2)"
   ]
  },
  {
   "cell_type": "code",
   "execution_count": 56,
   "id": "475b0d77-ff2e-41cb-8d81-09d953e19145",
   "metadata": {},
   "outputs": [],
   "source": [
    "myTree = createTree(myMat2, ops=(0,1))"
   ]
  },
  {
   "cell_type": "code",
   "execution_count": null,
   "id": "8fae73d0-ca44-4f37-930a-be1a131ec54a",
   "metadata": {},
   "outputs": [],
   "source": []
  },
  {
   "cell_type": "code",
   "execution_count": 54,
   "id": "35c23435-ba21-42dc-8314-d4f292f5b989",
   "metadata": {},
   "outputs": [],
   "source": [
    "myDatTest = loadDataSet(data_path / 'ex2test.txt')"
   ]
  },
  {
   "cell_type": "code",
   "execution_count": 55,
   "id": "85adddf2-d08b-4bfe-9259-57192bb9e1fd",
   "metadata": {},
   "outputs": [],
   "source": [
    "myMat2Test = mat(myDatTest)"
   ]
  },
  {
   "cell_type": "code",
   "execution_count": 60,
   "id": "8ee1b0cc-3ad0-40eb-90ef-0509b869a0ca",
   "metadata": {},
   "outputs": [],
   "source": [
    "pruneTree = prune(myTree,myMat2Test)"
   ]
  },
  {
   "cell_type": "code",
   "execution_count": null,
   "id": "c16990e0-580e-49b1-b6de-07596cba4cbb",
   "metadata": {},
   "outputs": [],
   "source": []
  },
  {
   "cell_type": "code",
   "execution_count": null,
   "id": "a37cc045-f041-4688-ba5e-ccc703194ed6",
   "metadata": {},
   "outputs": [],
   "source": []
  },
  {
   "cell_type": "code",
   "execution_count": 61,
   "id": "e42081dc-f04e-4560-8f5d-26495aa85399",
   "metadata": {},
   "outputs": [],
   "source": [
    "##9.5 模型树"
   ]
  },
  {
   "cell_type": "code",
   "execution_count": 62,
   "id": "47baf81b-e97e-4f43-859f-c415bc361e9e",
   "metadata": {},
   "outputs": [],
   "source": [
    "##线性模型对数据进行你和，然后计算真实的目标值与模型预测值间的差值。最后将这些差值的平方求和就得到所需的误差。"
   ]
  },
  {
   "cell_type": "code",
   "execution_count": 66,
   "id": "2d92e998-61ac-4e36-a3e6-70015fdc277f",
   "metadata": {},
   "outputs": [],
   "source": [
    "def linearSolve(dataSet):  #求解线性回归的参数\n",
    "    m,n = shape(dataSet)\n",
    "    X = mat(ones((m,n)))\n",
    "    Y = mat(ones((m,1)))\n",
    "    \n",
    "    X[:,1:n] = dataSet[:,0:n-1]\n",
    "    Y = dataSet[:,-1]\n",
    "    \n",
    "    xTx = X.T * X\n",
    "    if linalg.det(xTx) == 0.0:\n",
    "        raise NameError('this matrix is singular,\\n\\\n",
    "        try increasing the second value of ops')\n",
    "    ws = xTx.I * (X.T * Y)\n",
    "    return ws,X,Y\n",
    "\n",
    "def modelLeaf(dataSet):\n",
    "    ws,X,Y = linearSolve(dataSet)\n",
    "    return ws\n",
    "\n",
    "def modelErr(dataSet):\n",
    "    ws,X,Y = linearSolve(dataSet)\n",
    "    yHat = X * ws\n",
    "    return sum(power(Y - yHat,2))"
   ]
  },
  {
   "cell_type": "code",
   "execution_count": 68,
   "id": "b6c9e6f3-b182-4cc9-be8d-96a311b5fed5",
   "metadata": {},
   "outputs": [],
   "source": [
    "myTree2 = createTree(myMat2,modelLeaf,modelErr)"
   ]
  },
  {
   "cell_type": "code",
   "execution_count": null,
   "id": "1d457bda-6f6d-4197-a2e3-88992c596b52",
   "metadata": {},
   "outputs": [],
   "source": []
  },
  {
   "cell_type": "code",
   "execution_count": 69,
   "id": "887e63bc-46fe-42f1-aaca-2675786a8768",
   "metadata": {},
   "outputs": [],
   "source": [
    "#9.6 树回归与标准回归的测试比较"
   ]
  },
  {
   "cell_type": "code",
   "execution_count": 73,
   "id": "a3364c49-3b00-4604-87c9-7c83046fca52",
   "metadata": {},
   "outputs": [],
   "source": [
    "def regTreeEval(model,inDat):\n",
    "    return float(model)\n",
    "\n",
    "def modelTreeEval(model,inDat):\n",
    "    n = shape(inDat)[1]\n",
    "    X = mat(ones((1,n+1)))\n",
    "    X[:,1:n+1] = inDat\n",
    "    return float(X * model)\n",
    "\n",
    "def treeForeCast(tree,inData, modelEval = regTreeEval):\n",
    "    if not isTree(tree):\n",
    "        return modelEval(tree,inData)\n",
    "    if inData[tree['spInd']] > tree['spVal']:\n",
    "        if isTree(tree['left']):\n",
    "            return treeForeCast(tree['left'], inData, modelEval)\n",
    "        else:\n",
    "            return modelEval(tree['left'],inData)\n",
    "    else:\n",
    "        if isTree(tree['right']):\n",
    "            return treeForeCast(tree['right'], inData, modelEval)\n",
    "        else:\n",
    "            return modelEval(tree['right'],inData)  \n",
    "\n",
    "def createForeCast(tree,testData,modelEval = regTreeEval):\n",
    "    m = len(testData)\n",
    "    yHat = mat(zeros((m,1)))\n",
    "    for i in range(m):\n",
    "        yHat[i,0] = treeForeCast(tree,mat(testData[i]),modelEval)\n",
    "    return yHat"
   ]
  },
  {
   "cell_type": "code",
   "execution_count": 71,
   "id": "efaaa59b-316d-40c4-84ee-fa247c6fff7e",
   "metadata": {},
   "outputs": [],
   "source": [
    "trainMat = mat(loadDataSet(data_path / 'bikeSpeedVsIq_train.txt'))\n",
    "testMat = mat(loadDataSet(data_path / 'bikeSpeedVsIq_test.txt'))"
   ]
  },
  {
   "cell_type": "code",
   "execution_count": 72,
   "id": "d4ee5229-0db9-48fc-8d89-a2e71dc7720f",
   "metadata": {},
   "outputs": [],
   "source": [
    "##创建普通的回归树\n",
    "myTree3 = createTree(trainMat,ops=(1,20))"
   ]
  },
  {
   "cell_type": "code",
   "execution_count": 74,
   "id": "9b9defe3-0bcc-4c35-93a5-bc485fd4ee6c",
   "metadata": {},
   "outputs": [],
   "source": [
    "yHat = createForeCast(myTree3,testMat[:,0])"
   ]
  },
  {
   "cell_type": "code",
   "execution_count": 77,
   "id": "2e12ff78-add5-4f28-afb7-7f3065820820",
   "metadata": {},
   "outputs": [
    {
     "data": {
      "text/plain": [
       "0.9640852318222141"
      ]
     },
     "execution_count": 77,
     "metadata": {},
     "output_type": "execute_result"
    }
   ],
   "source": [
    "corrcoef(yHat,testMat[:,1],rowvar=0)[0,1]"
   ]
  },
  {
   "cell_type": "code",
   "execution_count": 78,
   "id": "c38ede53-b670-429d-bc58-6a0d8e4ffe2f",
   "metadata": {},
   "outputs": [],
   "source": [
    "##创建模型树\n",
    "myTree4 = createTree(trainMat,modelLeaf,modelErr,(1,20))"
   ]
  },
  {
   "cell_type": "code",
   "execution_count": 79,
   "id": "c3d06c68-5d71-4709-8694-c614938922b6",
   "metadata": {},
   "outputs": [],
   "source": [
    "yHat = createForeCast(myTree4,testMat[:,0],modelTreeEval)"
   ]
  },
  {
   "cell_type": "code",
   "execution_count": 80,
   "id": "f2649d19-e77b-4562-9874-7d81a510e809",
   "metadata": {},
   "outputs": [
    {
     "data": {
      "text/plain": [
       "0.9760412191380604"
      ]
     },
     "execution_count": 80,
     "metadata": {},
     "output_type": "execute_result"
    }
   ],
   "source": [
    "corrcoef(yHat,testMat[:,1],rowvar=0)[0,1]"
   ]
  },
  {
   "cell_type": "code",
   "execution_count": null,
   "id": "b35b064d-5179-4d3c-a1e8-4ec46fdeea42",
   "metadata": {},
   "outputs": [],
   "source": []
  }
 ],
 "metadata": {
  "kernelspec": {
   "display_name": "Python 3 (ipykernel)",
   "language": "python",
   "name": "python3"
  },
  "language_info": {
   "codemirror_mode": {
    "name": "ipython",
    "version": 3
   },
   "file_extension": ".py",
   "mimetype": "text/x-python",
   "name": "python",
   "nbconvert_exporter": "python",
   "pygments_lexer": "ipython3",
   "version": "3.9.1"
  }
 },
 "nbformat": 4,
 "nbformat_minor": 5
}
