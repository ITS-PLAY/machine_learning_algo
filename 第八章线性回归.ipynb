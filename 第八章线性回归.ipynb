{
 "cells": [
  {
   "cell_type": "code",
   "execution_count": 2,
   "id": "cbc60426-cc7d-40d2-af26-1d44f4cc5c02",
   "metadata": {},
   "outputs": [],
   "source": [
    "from numpy import *\n",
    "from pathlib import Path"
   ]
  },
  {
   "cell_type": "code",
   "execution_count": 3,
   "id": "04ae7c74-b763-442b-959b-226697d25800",
   "metadata": {},
   "outputs": [],
   "source": [
    "def loadDataSet(fileName):\n",
    "    numFeat = len(open(fileName).readline().split('\\t')) - 1\n",
    "    dataMat = []\n",
    "    labelMat = []\n",
    "    fr = open(fileName)\n",
    "    \n",
    "    for line in fr.readlines():\n",
    "        lineArr = []\n",
    "        curLine = line.strip().split('\\t')\n",
    "        for i in range(numFeat):\n",
    "            lineArr.append(float(curLine[i]))\n",
    "        dataMat.append(lineArr)\n",
    "        labelMat.append(float(curLine[-1]))\n",
    "    return dataMat,labelMat"
   ]
  },
  {
   "cell_type": "code",
   "execution_count": 4,
   "id": "2d8b5a95-c0ea-41df-8c93-5d27374da683",
   "metadata": {},
   "outputs": [],
   "source": [
    "def standRegress(xArr,yArr):\n",
    "    xMat = mat(xArr)\n",
    "    yMat = mat(yArr).T\n",
    "    xTx = xMat.T * xMat\n",
    "    \n",
    "    if linalg.det(xTx) == 0.0:\n",
    "        print('This matrix is singular, cannot do inverse')\n",
    "        return\n",
    "    ws = xTx.I * (xMat.T * yMat)\n",
    "    return ws"
   ]
  },
  {
   "cell_type": "code",
   "execution_count": 6,
   "id": "3f9b6071-902f-4e39-af3b-15a565dddc6e",
   "metadata": {},
   "outputs": [],
   "source": [
    "data_path = Path('D:\\python_algorithm\\machinelearinginaction\\《机器学习实战》Python3代码\\Ch08')"
   ]
  },
  {
   "cell_type": "code",
   "execution_count": 7,
   "id": "84f26955-a687-4ff0-ada0-1a678a4e0a22",
   "metadata": {},
   "outputs": [],
   "source": [
    "xArr,yArr = loadDataSet(data_path / 'ex0.txt')"
   ]
  },
  {
   "cell_type": "code",
   "execution_count": 10,
   "id": "b5f59b4b-a836-46ab-b748-91bc7fa62329",
   "metadata": {},
   "outputs": [],
   "source": [
    "ws = standRegress(xArr,yArr)"
   ]
  },
  {
   "cell_type": "code",
   "execution_count": 11,
   "id": "36bb581c-ace2-4987-971c-63de6407e572",
   "metadata": {},
   "outputs": [
    {
     "data": {
      "text/plain": [
       "matrix([[3.00774324],\n",
       "        [1.69532264]])"
      ]
     },
     "execution_count": 11,
     "metadata": {},
     "output_type": "execute_result"
    }
   ],
   "source": [
    "ws"
   ]
  },
  {
   "cell_type": "code",
   "execution_count": 12,
   "id": "5e343014-06dc-4f3a-9934-3e21b88f28db",
   "metadata": {},
   "outputs": [],
   "source": [
    "xCopy = mat(xArr).copy()"
   ]
  },
  {
   "cell_type": "code",
   "execution_count": null,
   "id": "b9061a23-184d-4fb4-a731-f9eed229e82f",
   "metadata": {},
   "outputs": [],
   "source": []
  },
  {
   "cell_type": "code",
   "execution_count": 28,
   "id": "b5a9906e-6322-4145-8af7-24dcc068dfa6",
   "metadata": {},
   "outputs": [],
   "source": [
    "xMat = mat(xArr)\n",
    "yMat = mat(yArr)\n",
    "yHat = xMat * ws"
   ]
  },
  {
   "cell_type": "code",
   "execution_count": 43,
   "id": "4546c2f7-6300-4ae0-89ca-8a17016a495f",
   "metadata": {},
   "outputs": [
    {
     "data": {
      "text/plain": [
       "[<matplotlib.lines.Line2D at 0x161707f08e0>]"
      ]
     },
     "execution_count": 43,
     "metadata": {},
     "output_type": "execute_result"
    },
    {
     "data": {
      "image/png": "[encoded data removed]",
      "text/plain": [
       "<Figure size 432x288 with 1 Axes>"
      ]
     },
     "metadata": {
      "needs_background": "light"
     },
     "output_type": "display_data"
    }
   ],
   "source": [
    "import matplotlib.pyplot as plt\n",
    "fig = plt.figure()\n",
    "ax = fig.add_subplot(111)\n",
    "ax.scatter(xMat[:,1].flatten().A[0],yMat.T[:,0].flatten().A[0])\n",
    "xCopy = xMat.copy()\n",
    "xCopy.sort(0)\n",
    "yHat = xCopy * ws\n",
    "ax.plot(xCopy[:,1],yHat)"
   ]
  },
  {
   "cell_type": "code",
   "execution_count": 44,
   "id": "94b0aaf2-7964-4115-b57b-4989288ee245",
   "metadata": {},
   "outputs": [
    {
     "data": {
      "text/plain": [
       "array([[1.        , 0.13653777],\n",
       "       [0.13653777, 1.        ]])"
      ]
     },
     "execution_count": 44,
     "metadata": {},
     "output_type": "execute_result"
    }
   ],
   "source": [
    "#相关系数\n",
    "corrcoef(yHat.T,yMat)"
   ]
  },
  {
   "cell_type": "code",
   "execution_count": null,
   "id": "9e992985-717f-4e40-bfa7-26c5ad41a1fc",
   "metadata": {},
   "outputs": [],
   "source": []
  },
  {
   "cell_type": "code",
   "execution_count": 45,
   "id": "e1585f45-6467-4577-92b1-7db089a051db",
   "metadata": {},
   "outputs": [],
   "source": [
    "#8.2 局部加权线性回归"
   ]
  },
  {
   "cell_type": "code",
   "execution_count": 49,
   "id": "1dff0f11-0503-4e47-804c-e43b23d893b6",
   "metadata": {},
   "outputs": [],
   "source": [
    "def lwlr(testPoint,xArr,yArr,k=1.0):\n",
    "    xMat = mat(xArr)\n",
    "    yMat = mat(yArr).T\n",
    "    \n",
    "    m = shape(xMat)[0]\n",
    "    weights = mat(eye(m))    #对角矩阵\n",
    "    \n",
    "    for j in range(m):       #计算以高斯核为权重类型的权重\n",
    "        diffMat = testPoint - xMat[j,:]\n",
    "        weights[j,j] = exp(diffMat*diffMat.T/(-2.0*k**2))\n",
    "    \n",
    "    xTx = xMat.T * (weights * xMat)\n",
    "    if linalg.det(xTx) == 0.0:\n",
    "        print('this matrix is singular,cannot do inverse')\n",
    "        return\n",
    "    ws = xTx.I * (xMat.T * (weights * yMat))                #求测试点附近回归系数\n",
    "    return testPoint * ws\n",
    "\n",
    "def lwlrTest(testArr, xArr, yArr, k=1.0):\n",
    "    m = shape(testArr)[0]\n",
    "    yHat = zeros(m)\n",
    "    for i in range(m):\n",
    "        yHat[i] = lwlr(testArr[i],xArr,yArr,k)\n",
    "        \n",
    "    return yHat"
   ]
  },
  {
   "cell_type": "code",
   "execution_count": 50,
   "id": "82091d7f-e837-4a51-a54b-287a5fb91808",
   "metadata": {},
   "outputs": [
    {
     "data": {
      "text/plain": [
       "3.176513"
      ]
     },
     "execution_count": 50,
     "metadata": {},
     "output_type": "execute_result"
    }
   ],
   "source": [
    "yArr[0]"
   ]
  },
  {
   "cell_type": "code",
   "execution_count": 51,
   "id": "f3571fa3-d862-4c66-a753-d90c7b1ed5b7",
   "metadata": {},
   "outputs": [
    {
     "data": {
      "text/plain": [
       "matrix([[3.12204471]])"
      ]
     },
     "execution_count": 51,
     "metadata": {},
     "output_type": "execute_result"
    }
   ],
   "source": [
    "lwlr(xArr[0],xArr,yArr,1.0)"
   ]
  },
  {
   "cell_type": "code",
   "execution_count": 52,
   "id": "4bdf82bf-1ae2-48b1-b360-e2d0b40b4938",
   "metadata": {},
   "outputs": [],
   "source": [
    "yHat = lwlrTest(xArr,xArr,yArr,0.003)"
   ]
  },
  {
   "cell_type": "code",
   "execution_count": null,
   "id": "cc9dbcc1-9fa2-4aec-95ba-79c67c8ea1c8",
   "metadata": {},
   "outputs": [],
   "source": []
  },
  {
   "cell_type": "code",
   "execution_count": 53,
   "id": "28e36ac8-37c5-49a1-b589-41aebbd66516",
   "metadata": {},
   "outputs": [],
   "source": [
    "#绘图"
   ]
  },
  {
   "cell_type": "code",
   "execution_count": 54,
   "id": "bfeffa4f-1993-4e07-9805-9b605b253377",
   "metadata": {},
   "outputs": [],
   "source": [
    "xMat = mat(xArr)\n",
    "srtInd = xMat[:,1].argsort(0)\n",
    "xSort = xMat[srtInd][:,0,:]"
   ]
  },
  {
   "cell_type": "code",
   "execution_count": 61,
   "id": "0d4e226b-96ea-4955-b75e-695f8ac2df16",
   "metadata": {},
   "outputs": [
    {
     "data": {
      "image/png": "[encoded data removed]",
      "text/plain": [
       "<Figure size 432x288 with 1 Axes>"
      ]
     },
     "metadata": {
      "needs_background": "light"
     },
     "output_type": "display_data"
    }
   ],
   "source": [
    "import matplotlib.pyplot as plt\n",
    "fig = plt.figure()\n",
    "ax = fig.add_subplot(111)\n",
    "ax.plot(xSort[:,1],yHat[srtInd])\n",
    "ax.scatter(xMat[:,1].flatten().A[0], mat(yArr).T.flatten().A[0], s=2,c='red')\n",
    "plt.show()"
   ]
  },
  {
   "cell_type": "code",
   "execution_count": null,
   "id": "ffd1d9b1-79ac-45df-a39c-67784f402673",
   "metadata": {},
   "outputs": [],
   "source": []
  },
  {
   "cell_type": "code",
   "execution_count": 63,
   "id": "b2a51a71-abc0-430d-9d4b-2325b528caa7",
   "metadata": {},
   "outputs": [],
   "source": [
    "#岭回归。数据的特征比样本点多的问题。\n",
    "#取名岭，是因为引入了单位矩阵（单位矩阵的对角线全为1，组成了“岭”）"
   ]
  },
  {
   "cell_type": "code",
   "execution_count": 67,
   "id": "89aecb42-60d1-4f18-bc3b-2899951253a5",
   "metadata": {},
   "outputs": [],
   "source": [
    "def ridgeRegress(xMat,yMat,lam=0.2):\n",
    "    xTx = xMat.T * xMat\n",
    "    denom = xTx + eye(shape(xMat)[1]) * lam\n",
    "    \n",
    "    if linalg.det(denom) == 0.0:\n",
    "        print('this matrix is singular, cannot do inverse')\n",
    "        return\n",
    "    \n",
    "    ws = denom.I * (xMat.T * yMat)\n",
    "    return ws\n",
    "\n",
    "def ridgeTest(xArr, yArr):\n",
    "    xMat = mat(xArr)\n",
    "    yMat = mat(yArr).T\n",
    "    \n",
    "    yMean = mean(yMat,0)\n",
    "    yMat = yMat - yMean         #特征标准化处理\n",
    "    xMeans = mean(xMat,0)\n",
    "    xVar = var(xMat,0)\n",
    "    xMat = (xMat - xMeans)/xVar\n",
    "    \n",
    "    numTestPts = 30\n",
    "    wMat = zeros((numTestPts,shape(xMat)[1]))\n",
    "    for i in range(numTestPts):\n",
    "        ws = ridgeRegress(xMat,yMat,exp(i-10))\n",
    "        wMat[i,:] = ws.T\n",
    "    return wMat\n",
    "    "
   ]
  },
  {
   "cell_type": "code",
   "execution_count": 68,
   "id": "d3411f00-dfe0-40d8-b71a-329dbb60778e",
   "metadata": {},
   "outputs": [],
   "source": [
    "xArr,yArr = loadDataSet(data_path / 'abalone.txt')"
   ]
  },
  {
   "cell_type": "code",
   "execution_count": 69,
   "id": "d9c0b4d2-f095-4995-ac79-6730b214a95f",
   "metadata": {},
   "outputs": [],
   "source": [
    "ridgeWeights = ridgeTest(xArr,yArr)"
   ]
  },
  {
   "cell_type": "code",
   "execution_count": 73,
   "id": "1f142138-c311-4588-906f-3454f2c38e83",
   "metadata": {},
   "outputs": [
    {
     "data": {
      "text/plain": [
       "array([ 0.04304419, -0.02274163,  0.13214088,  0.02075182,  2.22403745,\n",
       "       -0.99895298, -0.11725424,  0.16622922])"
      ]
     },
     "execution_count": 73,
     "metadata": {},
     "output_type": "execute_result"
    }
   ],
   "source": [
    "ridgeWeights[0]"
   ]
  },
  {
   "cell_type": "code",
   "execution_count": 78,
   "id": "79db19cf-68ca-442f-926a-f02017c19707",
   "metadata": {},
   "outputs": [
    {
     "data": {
      "image/png": "[encoded data removed]",
      "text/plain": [
       "<Figure size 432x288 with 1 Axes>"
      ]
     },
     "metadata": {
      "needs_background": "light"
     },
     "output_type": "display_data"
    }
   ],
   "source": [
    "import matplotlib.pyplot as plt\n",
    "fig = plt.figure()\n",
    "ax = fig.add_subplot(111)\n",
    "ax.plot(ridgeWeights)    #每一列绘制一个曲线\n",
    "plt.show()"
   ]
  },
  {
   "cell_type": "code",
   "execution_count": null,
   "id": "2deba31f-0a01-4d6b-b216-b25023bf7623",
   "metadata": {},
   "outputs": [],
   "source": []
  },
  {
   "cell_type": "code",
   "execution_count": 79,
   "id": "6c56c742-1204-4507-8a30-8ebd3490a93d",
   "metadata": {},
   "outputs": [],
   "source": [
    "#逐步前向回归。属于贪心算法，每一步都尽可能减少误差。"
   ]
  },
  {
   "cell_type": "code",
   "execution_count": 88,
   "id": "5b769499-9355-4ed2-8918-72878cfa4de6",
   "metadata": {},
   "outputs": [],
   "source": [
    "def rssError(yArr,yHatArr):\n",
    "    return ((yArr-yHatArr)**2).sum()\n",
    "\n",
    "def stageWise(xArr,yArr,eps = 0.01, numIt = 100):\n",
    "    xMat = mat(xArr)\n",
    "    yMat = mat(yArr).T\n",
    "    \n",
    "    yMean = mean(yMat,0)\n",
    "    yMat = yMat - yMean\n",
    "    \n",
    "    xMeans = mean(xMat,0)\n",
    "    xVar = var(xMat,0)\n",
    "    xMat = (xMat - xMeans)/xVar\n",
    "    \n",
    "    m,n = shape(xMat)\n",
    "    \n",
    "    returnMat = zeros((numIt,n))\n",
    "    ws = zeros((n,1))\n",
    "    wsTest = ws.copy()\n",
    "    wsMax = ws.copy()\n",
    "    \n",
    "    for i in range(numIt):\n",
    "        #print(ws.T)\n",
    "        lowestError = float(inf)\n",
    "        for j in range(n):\n",
    "            for sign in [-1,1]:\n",
    "                wsTest = ws.copy()\n",
    "                wsTest[j] += eps*sign\n",
    "                yTest = xMat * wsTest\n",
    "                \n",
    "                rssE = rssError(yMat.A,yTest.A)\n",
    "                if rssE < lowestError:\n",
    "                    lowestError = rssE\n",
    "                    wsMax = wsTest\n",
    "        ws = wsMax.copy()\n",
    "        returnMat[i,:] = ws.T\n",
    "    return returnMat"
   ]
  },
  {
   "cell_type": "code",
   "execution_count": 89,
   "id": "f12a43fc-b46c-4659-9ef2-0d2c70f70a4f",
   "metadata": {},
   "outputs": [
    {
     "data": {
      "text/plain": [
       "array([[ 0.  ,  0.  ,  0.  , ...,  0.  ,  0.  ,  0.  ],\n",
       "       [ 0.  ,  0.  ,  0.  , ...,  0.  ,  0.  ,  0.  ],\n",
       "       [ 0.  ,  0.  ,  0.  , ...,  0.  ,  0.  ,  0.  ],\n",
       "       ...,\n",
       "       [ 0.05,  0.  ,  0.09, ..., -0.64,  0.  ,  0.36],\n",
       "       [ 0.04,  0.  ,  0.09, ..., -0.64,  0.  ,  0.36],\n",
       "       [ 0.05,  0.  ,  0.09, ..., -0.64,  0.  ,  0.36]])"
      ]
     },
     "execution_count": 89,
     "metadata": {},
     "output_type": "execute_result"
    }
   ],
   "source": [
    "stageWise(xArr,yArr,0.01,200)"
   ]
  },
  {
   "cell_type": "code",
   "execution_count": 90,
   "id": "1912b979-9168-4154-963b-ae2a120f1c31",
   "metadata": {},
   "outputs": [
    {
     "data": {
      "text/plain": [
       "array([[ 0.   ,  0.   ,  0.   , ...,  0.   ,  0.   ,  0.   ],\n",
       "       [ 0.   ,  0.   ,  0.   , ...,  0.   ,  0.   ,  0.   ],\n",
       "       [ 0.   ,  0.   ,  0.   , ...,  0.   ,  0.   ,  0.   ],\n",
       "       ...,\n",
       "       [ 0.043, -0.011,  0.12 , ..., -0.963, -0.105,  0.187],\n",
       "       [ 0.044, -0.011,  0.12 , ..., -0.963, -0.105,  0.187],\n",
       "       [ 0.043, -0.011,  0.12 , ..., -0.963, -0.105,  0.187]])"
      ]
     },
     "execution_count": 90,
     "metadata": {},
     "output_type": "execute_result"
    }
   ],
   "source": [
    "stageWise(xArr,yArr,0.001,5000)"
   ]
  },
  {
   "cell_type": "code",
   "execution_count": null,
   "id": "dfd612e2-5572-438e-b02f-63a6e948c5c9",
   "metadata": {},
   "outputs": [],
   "source": []
  },
  {
   "cell_type": "code",
   "execution_count": null,
   "id": "a1362c4e-73f6-4a7a-8f72-6d08e59a35a1",
   "metadata": {},
   "outputs": [],
   "source": []
  },
  {
   "cell_type": "code",
   "execution_count": null,
   "id": "9864c813-ea5f-4206-a54f-c5ec4afe8270",
   "metadata": {},
   "outputs": [],
   "source": []
  }
 ],
 "metadata": {
  "kernelspec": {
   "display_name": "Python 3 (ipykernel)",
   "language": "python",
   "name": "python3"
  },
  "language_info": {
   "codemirror_mode": {
    "name": "ipython",
    "version": 3
   },
   "file_extension": ".py",
   "mimetype": "text/x-python",
   "name": "python",
   "nbconvert_exporter": "python",
   "pygments_lexer": "ipython3",
   "version": "3.9.1"
  }
 },
 "nbformat": 4,
 "nbformat_minor": 5
}
