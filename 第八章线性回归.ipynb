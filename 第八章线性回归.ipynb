{
 "cells": [
  {
   "cell_type": "code",
   "execution_count": 2,
   "id": "cbc60426-cc7d-40d2-af26-1d44f4cc5c02",
   "metadata": {},
   "outputs": [],
   "source": [
    "from numpy import *\n",
    "from pathlib import Path"
   ]
  },
  {
   "cell_type": "code",
   "execution_count": 3,
   "id": "04ae7c74-b763-442b-959b-226697d25800",
   "metadata": {},
   "outputs": [],
   "source": [
    "def loadDataSet(fileName):\n",
    "    numFeat = len(open(fileName).readline().split('\\t')) - 1\n",
    "    dataMat = []\n",
    "    labelMat = []\n",
    "    fr = open(fileName)\n",
    "    \n",
    "    for line in fr.readlines():\n",
    "        lineArr = []\n",
    "        curLine = line.strip().split('\\t')\n",
    "        for i in range(numFeat):\n",
    "            lineArr.append(float(curLine[i]))\n",
    "        dataMat.append(lineArr)\n",
    "        labelMat.append(float(curLine[-1]))\n",
    "    return dataMat,labelMat"
   ]
  },
  {
   "cell_type": "code",
   "execution_count": 4,
   "id": "2d8b5a95-c0ea-41df-8c93-5d27374da683",
   "metadata": {},
   "outputs": [],
   "source": [
    "def standRegress(xArr,yArr):\n",
    "    xMat = mat(xArr)\n",
    "    yMat = mat(yArr).T\n",
    "    xTx = xMat.T * xMat\n",
    "    \n",
    "    if linalg.det(xTx) == 0.0:\n",
    "        print('This matrix is singular, cannot do inverse')\n",
    "        return\n",
    "    ws = xTx.I * (xMat.T * yMat)\n",
    "    return ws"
   ]
  },
  {
   "cell_type": "code",
   "execution_count": 6,
   "id": "3f9b6071-902f-4e39-af3b-15a565dddc6e",
   "metadata": {},
   "outputs": [],
   "source": [
    "data_path = Path('D:\\python_algorithm\\machinelearinginaction\\《机器学习实战》Python3代码\\Ch08')"
   ]
  },
  {
   "cell_type": "code",
   "execution_count": 7,
   "id": "84f26955-a687-4ff0-ada0-1a678a4e0a22",
   "metadata": {},
   "outputs": [],
   "source": [
    "xArr,yArr = loadDataSet(data_path / 'ex0.txt')"
   ]
  },
  {
   "cell_type": "code",
   "execution_count": 10,
   "id": "b5f59b4b-a836-46ab-b748-91bc7fa62329",
   "metadata": {},
   "outputs": [],
   "source": [
    "ws = standRegress(xArr,yArr)"
   ]
  },
  {
   "cell_type": "code",
   "execution_count": 11,
   "id": "36bb581c-ace2-4987-971c-63de6407e572",
   "metadata": {},
   "outputs": [
    {
     "data": {
      "text/plain": [
       "matrix([[3.00774324],\n",
       "        [1.69532264]])"
      ]
     },
     "execution_count": 11,
     "metadata": {},
     "output_type": "execute_result"
    }
   ],
   "source": [
    "ws"
   ]
  },
  {
   "cell_type": "code",
   "execution_count": 12,
   "id": "5e343014-06dc-4f3a-9934-3e21b88f28db",
   "metadata": {},
   "outputs": [],
   "source": [
    "xCopy = mat(xArr).copy()"
   ]
  },
  {
   "cell_type": "code",
   "execution_count": null,
   "id": "b9061a23-184d-4fb4-a731-f9eed229e82f",
   "metadata": {},
   "outputs": [],
   "source": []
  },
  {
   "cell_type": "code",
   "execution_count": null,
   "id": "b5a9906e-6322-4145-8af7-24dcc068dfa6",
   "metadata": {},
   "outputs": [],
   "source": []
  },
  {
   "cell_type": "code",
   "execution_count": null,
   "id": "4546c2f7-6300-4ae0-89ca-8a17016a495f",
   "metadata": {},
   "outputs": [],
   "source": []
  }
 ],
 "metadata": {
  "kernelspec": {
   "display_name": "Python 3 (ipykernel)",
   "language": "python",
   "name": "python3"
  },
  "language_info": {
   "codemirror_mode": {
    "name": "ipython",
    "version": 3
   },
   "file_extension": ".py",
   "mimetype": "text/x-python",
   "name": "python",
   "nbconvert_exporter": "python",
   "pygments_lexer": "ipython3",
   "version": "3.9.1"
  }
 },
 "nbformat": 4,
 "nbformat_minor": 5
}
