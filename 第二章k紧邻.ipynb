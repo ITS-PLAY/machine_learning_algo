{
 "cells": [
  {
   "cell_type": "code",
   "execution_count": null,
   "id": "38072809-7369-43f5-ace5-b053ee42d5ed",
   "metadata": {},
   "outputs": [],
   "source": [
    "#机器学习实战2022-02-13\n",
    "#第二章：k-近邻算法"
   ]
  },
  {
   "cell_type": "code",
   "execution_count": 4,
   "id": "2ea3f1e1-a8f3-44a8-bef1-0b31f48cd321",
   "metadata": {},
   "outputs": [],
   "source": [
    "from numpy import *\n",
    "import operator"
   ]
  },
  {
   "cell_type": "code",
   "execution_count": 24,
   "id": "9103a292-aabf-48fd-9570-ec7b5478d728",
   "metadata": {},
   "outputs": [],
   "source": [
    "def createDataSet():\n",
    "    group = array([[1.0,1.1],[1.0,1.0],[0,0],[0,0.1]])\n",
    "    labels = ['A','A','B','B']\n",
    "    return group,labels"
   ]
  },
  {
   "cell_type": "code",
   "execution_count": 25,
   "id": "1ebf90e8-839a-4c04-a8dd-efec9dc6379a",
   "metadata": {},
   "outputs": [],
   "source": [
    "group,labels = createDataSet()"
   ]
  },
  {
   "cell_type": "code",
   "execution_count": 26,
   "id": "7f469fb9-f130-4c17-a8b0-d40aaf98013e",
   "metadata": {},
   "outputs": [],
   "source": [
    "dataSet = group\n",
    "inX = [0,0]"
   ]
  },
  {
   "cell_type": "code",
   "execution_count": 16,
   "id": "0b2e4b44-35c8-4457-bdbe-8d3934cbbe5c",
   "metadata": {},
   "outputs": [],
   "source": [
    "dataSetSize = dataSet.shape[0]\n",
    "diffMat = tile(inX,(dataSetSize,1)) - dataSet"
   ]
  },
  {
   "cell_type": "code",
   "execution_count": 17,
   "id": "5add4dbf-0b09-495e-b543-0f7b85f99fb1",
   "metadata": {},
   "outputs": [],
   "source": [
    "sqDiffMat = diffMat**2"
   ]
  },
  {
   "cell_type": "code",
   "execution_count": 18,
   "id": "57df6385-f705-4893-bf6b-9579a7f7ca87",
   "metadata": {},
   "outputs": [
    {
     "data": {
      "text/plain": [
       "array([[1.  , 1.21],\n",
       "       [1.  , 1.  ],\n",
       "       [0.  , 0.  ],\n",
       "       [0.  , 0.01]])"
      ]
     },
     "execution_count": 18,
     "metadata": {},
     "output_type": "execute_result"
    }
   ],
   "source": [
    "sqDiffMat"
   ]
  },
  {
   "cell_type": "code",
   "execution_count": 19,
   "id": "9f935be0-75fc-4fc5-a3f7-390dc517fe16",
   "metadata": {},
   "outputs": [],
   "source": [
    "sqDistance = sqDiffMat.sum(axis=1)"
   ]
  },
  {
   "cell_type": "code",
   "execution_count": 20,
   "id": "826ebbb8-382c-4430-9080-1e099e7bc76a",
   "metadata": {},
   "outputs": [
    {
     "data": {
      "text/plain": [
       "array([2.21, 2.  , 0.  , 0.01])"
      ]
     },
     "execution_count": 20,
     "metadata": {},
     "output_type": "execute_result"
    }
   ],
   "source": [
    "sqDistance"
   ]
  },
  {
   "cell_type": "code",
   "execution_count": 21,
   "id": "85dd4e1b-ec58-4065-8ff5-a683643b4633",
   "metadata": {},
   "outputs": [],
   "source": [
    "distances = sqDistance**0.5"
   ]
  },
  {
   "cell_type": "code",
   "execution_count": 22,
   "id": "42c1e582-0f20-4e2c-9931-499187f52ebf",
   "metadata": {},
   "outputs": [],
   "source": [
    "sortedDistIndicies = distances.argsort()"
   ]
  },
  {
   "cell_type": "code",
   "execution_count": 23,
   "id": "fdd2c056-918b-40e0-8e92-9ca97bb9d90b",
   "metadata": {},
   "outputs": [
    {
     "data": {
      "text/plain": [
       "array([2, 3, 1, 0], dtype=int64)"
      ]
     },
     "execution_count": 23,
     "metadata": {},
     "output_type": "execute_result"
    }
   ],
   "source": [
    "sortedDistIndicies"
   ]
  },
  {
   "cell_type": "code",
   "execution_count": 24,
   "id": "84a60021-d70d-404f-875a-1414c81d2489",
   "metadata": {},
   "outputs": [],
   "source": [
    "classCount = {}"
   ]
  },
  {
   "cell_type": "code",
   "execution_count": 25,
   "id": "f9e384ee-a33d-460c-bd3b-82ccd7aee42a",
   "metadata": {},
   "outputs": [],
   "source": [
    "for i in range(3):\n",
    "    voteIlabel = labels[sortedDistIndicies[i]]\n",
    "    classCount[voteIlabel] = classCount.get(voteIlabel,0) + 1"
   ]
  },
  {
   "cell_type": "code",
   "execution_count": 26,
   "id": "eb3ed331-c68c-43f3-86b1-36537215ae5f",
   "metadata": {},
   "outputs": [
    {
     "data": {
      "text/plain": [
       "{'B': 2, 'A': 1}"
      ]
     },
     "execution_count": 26,
     "metadata": {},
     "output_type": "execute_result"
    }
   ],
   "source": [
    "classCount"
   ]
  },
  {
   "cell_type": "code",
   "execution_count": 28,
   "id": "58d4dc8c-c4f8-42dc-9625-a1a30b0ab924",
   "metadata": {},
   "outputs": [],
   "source": [
    "sortedClassCount = sorted(classCount.items(),key=operator.itemgetter(1),reverse=True)"
   ]
  },
  {
   "cell_type": "code",
   "execution_count": 30,
   "id": "5cc501aa-1ee7-4d51-ac6e-52e2d5a5f783",
   "metadata": {},
   "outputs": [
    {
     "data": {
      "text/plain": [
       "'B'"
      ]
     },
     "execution_count": 30,
     "metadata": {},
     "output_type": "execute_result"
    }
   ],
   "source": [
    "sortedClassCount[0][0]"
   ]
  },
  {
   "cell_type": "code",
   "execution_count": 22,
   "id": "fd5a4f7a-ae67-4788-872b-e173b1c87435",
   "metadata": {},
   "outputs": [],
   "source": [
    "#k-近邻算法的程序片段\n",
    "def classify0(inX,dataSet,labels,k):\n",
    "    dataSetSize = dataSet.shape[0]\n",
    "    diffMat = tile(inX,(dataSetSize,1)) - dataSet\n",
    "    sqDiffMat = diffMat**2\n",
    "    sqDistance = sqDiffMat.sum(axis=1)\n",
    "    distances = sqDistance**0.5\n",
    "    sortedDistIndicies = distances.argsort()\n",
    "    \n",
    "    classCount = {}\n",
    "    for i in range(k):\n",
    "        voteIlabel = labels[sortedDistIndicies[i]]\n",
    "        classCount[voteIlabel] = classCount.get(voteIlabel,0) + 1\n",
    "    \n",
    "    sortedClassCount = sorted(classCount.items(),key=operator.itemgetter(1),reverse=True)\n",
    "    return sortedClassCount[0][0]"
   ]
  },
  {
   "cell_type": "code",
   "execution_count": 23,
   "id": "d8c62e94-1bb0-49bc-98e4-527578d70fea",
   "metadata": {},
   "outputs": [
    {
     "ename": "NameError",
     "evalue": "name 'group' is not defined",
     "output_type": "error",
     "traceback": [
      "\u001b[1;31m---------------------------------------------------------------------------\u001b[0m",
      "\u001b[1;31mNameError\u001b[0m                                 Traceback (most recent call last)",
      "\u001b[1;32m~\\AppData\\Local\\Temp/ipykernel_50424/4222937768.py\u001b[0m in \u001b[0;36m<module>\u001b[1;34m\u001b[0m\n\u001b[1;32m----> 1\u001b[1;33m \u001b[0mclassify0\u001b[0m\u001b[1;33m(\u001b[0m\u001b[1;33m[\u001b[0m\u001b[1;36m0\u001b[0m\u001b[1;33m,\u001b[0m\u001b[1;36m2\u001b[0m\u001b[1;33m]\u001b[0m\u001b[1;33m,\u001b[0m\u001b[0mgroup\u001b[0m\u001b[1;33m,\u001b[0m\u001b[0mlabels\u001b[0m\u001b[1;33m,\u001b[0m\u001b[1;36m3\u001b[0m\u001b[1;33m)\u001b[0m\u001b[1;33m\u001b[0m\u001b[1;33m\u001b[0m\u001b[0m\n\u001b[0m",
      "\u001b[1;31mNameError\u001b[0m: name 'group' is not defined"
     ]
    }
   ],
   "source": [
    "classify0([0,2],group,labels,3)"
   ]
  },
  {
   "cell_type": "code",
   "execution_count": null,
   "id": "ab560bb0-7199-4683-9b90-05c6c570a645",
   "metadata": {},
   "outputs": [],
   "source": [
    "#约会网址的配对程序"
   ]
  },
  {
   "cell_type": "code",
   "execution_count": 7,
   "id": "78aa423b-b23c-402e-b27d-07c8a6ab2675",
   "metadata": {},
   "outputs": [],
   "source": [
    "data_file = './《机器学习实战》Python3代码/machinelearninginaction3x-master/Ch02/datingTestSet2.txt'"
   ]
  },
  {
   "cell_type": "code",
   "execution_count": 8,
   "id": "f674c1e6-fd84-4020-8c03-6d8cb0ea6c24",
   "metadata": {},
   "outputs": [],
   "source": [
    "def file2matrix(filename):\n",
    "    fr = open(data_file)\n",
    "    arrayOLines = fr.readlines()\n",
    "    numberOfLines = len(arrayOLines)\n",
    "    returnMat = zeros((numberOfLines,3))\n",
    "    classLabelVector = []\n",
    "    index = 0\n",
    "    for line in arrayOLines:\n",
    "        line = line.strip()    #截取回车符\n",
    "        listFromLine = line.split('\\t')\n",
    "        returnMat[index,:] = listFromLine[0:3]\n",
    "        classLabelVector.append(int(listFromLine[-1]))\n",
    "        index += 1    \n",
    "    return returnMat,classLabelVector"
   ]
  },
  {
   "cell_type": "code",
   "execution_count": 9,
   "id": "8523332d-59a5-47b6-9efd-91366fa006ee",
   "metadata": {},
   "outputs": [],
   "source": [
    "datingDataMat,datingLabels = file2matrix(data_file)"
   ]
  },
  {
   "cell_type": "code",
   "execution_count": 10,
   "id": "dd9e3b81-3345-410d-baa4-5cdea7fe7c46",
   "metadata": {},
   "outputs": [
    {
     "data": {
      "image/png": "[encoded data removed]",
      "text/plain": [
       "<Figure size 432x288 with 1 Axes>"
      ]
     },
     "metadata": {
      "needs_background": "light"
     },
     "output_type": "display_data"
    }
   ],
   "source": [
    "import matplotlib\n",
    "import matplotlib.pyplot as plt\n",
    "fig = plt.figure()\n",
    "ax = fig.add_subplot(111)\n",
    "ax.scatter(datingDataMat[:,1],datingDataMat[:,2],15.0*array(datingLabels),15.0*array(datingLabels))\n",
    "plt.show()"
   ]
  },
  {
   "cell_type": "code",
   "execution_count": 28,
   "id": "28e617a2-c3f5-4c71-8fc3-006daef13e67",
   "metadata": {},
   "outputs": [],
   "source": [
    "def autoNorm(datingDataMat):\n",
    "    \n",
    "    minvals = datingDataMat.min(0)\n",
    "    maxvals = datingDataMat.max(0)\n",
    "    ranges = maxvals - minvals\n",
    "    normDataSet = zeros(shape(datingDataMat))\n",
    "    m = datingDataMat.shape[0]\n",
    "    normDataSet = datingDataMat - tile(minvals,(m,1))\n",
    "    normDataSet = normDataSet/tile(ranges,(m,1))\n",
    "    return normDataSet,ranges,minvals"
   ]
  },
  {
   "cell_type": "code",
   "execution_count": 29,
   "id": "e4ff2944-0f8c-43e0-ae35-fe2ca02ae7ef",
   "metadata": {},
   "outputs": [],
   "source": [
    "normMat,ranges,minVals = autoNorm(datingDataMat)"
   ]
  },
  {
   "cell_type": "code",
   "execution_count": 35,
   "id": "c3206853-5107-4d83-bc52-cd20db41d117",
   "metadata": {},
   "outputs": [],
   "source": [
    "def datingClassTest():\n",
    "    hoRatio = 0.1\n",
    "    datingDataMat,datingLabels = file2matrix(data_file)\n",
    "    normMat,ranges,minVals = autoNorm(datingDataMat)\n",
    "    m = normMat.shape[0]\n",
    "    numTestVecs = int(m*hoRatio)\n",
    "    errorCount = 0.0\n",
    "    for i in range(numTestVecs):\n",
    "        classifierResult = classify0(normMat[i,:],normMat[numTestVecs:m,:],datingLabels[numTestVecs:m],3)\n",
    "#         print(\"the classifier came back with: %d, the real answer is: %d\"\\\n",
    "#              %(classifierResult,datingLabels[i]))\n",
    "        if (classifierResult != datingLabels[i]): \n",
    "            errorCount += 1.0\n",
    "    print(\"the total error rate is:%f\" %(errorCount/float(numTestVecs)))"
   ]
  },
  {
   "cell_type": "code",
   "execution_count": 37,
   "id": "bb9ced40-5fbe-4cf1-8443-6897b639b56e",
   "metadata": {},
   "outputs": [
    {
     "name": "stdout",
     "output_type": "stream",
     "text": [
      "the total error rate is:0.050000\n"
     ]
    }
   ],
   "source": [
    "datingClassTest()"
   ]
  },
  {
   "cell_type": "code",
   "execution_count": 27,
   "id": "0262f32f-f717-4448-8caa-b6434b00cb97",
   "metadata": {},
   "outputs": [],
   "source": []
  },
  {
   "cell_type": "code",
   "execution_count": 5,
   "id": "2e248f73-52d8-49e4-a128-54e91907b62c",
   "metadata": {},
   "outputs": [],
   "source": [
    "#手写识别系统\n",
    "def img2vector(filename):\n",
    "    returnVect = zeros((1,1024))\n",
    "    file = open(filename)\n",
    "    for i in range(32):\n",
    "        lineStr = file.readline()\n",
    "        for j in range(32):\n",
    "            returnVect[0,i*32 + j] = int(lineStr[j])\n",
    "    return returnVect"
   ]
  },
  {
   "cell_type": "code",
   "execution_count": 18,
   "id": "f84157ff-6b64-4bcf-909d-87b14a34e0c7",
   "metadata": {},
   "outputs": [],
   "source": [
    "data_file = './《机器学习实战》Python3代码/machinelearninginaction3x-master/Ch02/digits/'"
   ]
  },
  {
   "cell_type": "code",
   "execution_count": 7,
   "id": "33aab069-3739-4731-b3fa-ca9df7badfcd",
   "metadata": {},
   "outputs": [],
   "source": [
    "testVect = img2vector(data_file)"
   ]
  },
  {
   "cell_type": "code",
   "execution_count": 10,
   "id": "46525af6-ac8d-4d3f-a5e3-363a8c853990",
   "metadata": {},
   "outputs": [],
   "source": [
    "from os import listdir"
   ]
  },
  {
   "cell_type": "code",
   "execution_count": 14,
   "id": "887c47df-ae65-4f2b-9e51-c04601deecc9",
   "metadata": {},
   "outputs": [],
   "source": [
    "hwLabels = []\n",
    "trainingFileList = listdir('%strainingDigits'%data_file)\n",
    "m = len(trainingFileList)\n",
    "trainingMat = zeros((m,1024))\n",
    "for i in range(m):\n",
    "    fileNameStr = trainingFileList[i]\n",
    "    fileStr = fileNameStr.split('.')[0]\n",
    "    classNumStr = int(fileStr.split('_')[0])\n",
    "    hwLabels.append(classNumStr)\n",
    "    trainingMat[i,:] = img2vector('%strainingDigits/%s'%(data_file,fileNameStr))"
   ]
  },
  {
   "cell_type": "code",
   "execution_count": 20,
   "id": "9dcb3dc8-dd2f-4c7e-88f1-853235a5479f",
   "metadata": {},
   "outputs": [],
   "source": [
    "testFileList = listdir('%stestDigits'%data_file)"
   ]
  },
  {
   "cell_type": "code",
   "execution_count": 27,
   "id": "8776afa2-380a-4e61-a965-6ce9bca6b81e",
   "metadata": {},
   "outputs": [
    {
     "name": "stdout",
     "output_type": "stream",
     "text": [
      "\n",
      "total error rate is: 0.010571\n"
     ]
    }
   ],
   "source": [
    "errorCount = 0.0\n",
    "mTest = len(testFileList)\n",
    "for i in range(mTest):\n",
    "    fileNameStr = testFileList[i]\n",
    "    fileStr = fileNameStr.split('.')[0]\n",
    "    classNumStr = int(fileStr.split('_')[0])\n",
    "    vectorUnderTest = img2vector('%stestDigits/%s'%(data_file,fileNameStr))\n",
    "    classifierResult = classify0(vectorUnderTest,trainingMat,hwLabels,3)\n",
    "    if (classifierResult != classNumStr): errorCount += 1.0\n",
    "print('\\ntotal error rate is: %f'%(errorCount/float(mTest)))"
   ]
  },
  {
   "cell_type": "code",
   "execution_count": null,
   "id": "4c5264f9-b226-44ba-97e4-e84d0eaf5665",
   "metadata": {},
   "outputs": [],
   "source": []
  }
 ],
 "metadata": {
  "kernelspec": {
   "display_name": "Python 3 (ipykernel)",
   "language": "python",
   "name": "python3"
  },
  "language_info": {
   "codemirror_mode": {
    "name": "ipython",
    "version": 3
   },
   "file_extension": ".py",
   "mimetype": "text/x-python",
   "name": "python",
   "nbconvert_exporter": "python",
   "pygments_lexer": "ipython3",
   "version": "3.9.1"
  }
 },
 "nbformat": 4,
 "nbformat_minor": 5
}
