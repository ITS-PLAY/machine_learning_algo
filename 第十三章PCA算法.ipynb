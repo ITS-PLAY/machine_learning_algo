{
 "cells": [
  {
   "cell_type": "code",
   "execution_count": 1,
   "id": "073e3350-658f-40b4-871f-aacd10de7532",
   "metadata": {},
   "outputs": [],
   "source": [
    "from numpy import *\n",
    "from pathlib import Path"
   ]
  },
  {
   "cell_type": "code",
   "execution_count": 3,
   "id": "de34cd9f-f5f7-4659-b28c-758fb9c13de7",
   "metadata": {},
   "outputs": [],
   "source": [
    "#主成分分析（principal component analysis）用于实现降维的目的。数据通过从原来的坐标系转换到\n",
    "#新的坐标系。第一个坐标系选择的是原始数据中方差最大的方向，第二个新坐标轴的选择和第一个坐标轴正交\n",
    "#且具有最大方差的方向。该过程一直重复，直到重复次数达到特征的数目。"
   ]
  },
  {
   "cell_type": "code",
   "execution_count": 12,
   "id": "0b1b659a-63ca-4b92-8e4e-94c326726d0a",
   "metadata": {},
   "outputs": [],
   "source": [
    "def loadDataSet(fileName,delim='\\t'):\n",
    "    fr = open(fileName)\n",
    "    stringArr = [line.strip().split(delim) for line in fr.readlines()]\n",
    "    dataArr = [list(map(float,line)) for line in stringArr]\n",
    "    return mat(dataArr)"
   ]
  },
  {
   "cell_type": "code",
   "execution_count": 28,
   "id": "fe5f62d6-216f-4f07-8c93-9b271fb6e76a",
   "metadata": {},
   "outputs": [],
   "source": [
    "def pca(dataMat,topNfeat = 9999):\n",
    "    meanVals = mean(dataMat,axis=0)\n",
    "    meanRemoved = dataMat - meanVals\n",
    "    covMat = cov(meanRemoved, rowvar = 0)\n",
    "    eigVals,eigVects = linalg.eig(mat(covMat))\n",
    "    \n",
    "    eigValInd = argsort(eigVals)\n",
    "    eigValInd = eigValInd[:-(topNfeat+1):-1]\n",
    "    redEigVects = eigVects[:,eigValInd]\n",
    "\n",
    "    lowDDatMat = meanRemoved * redEigVects\n",
    "    \n",
    "    reconMat = (lowDDatMat * redEigVects.T) + meanVals\n",
    "    return lowDDatMat,reconMat\n",
    "    "
   ]
  },
  {
   "cell_type": "code",
   "execution_count": 21,
   "id": "31a2a732-83ca-4d16-b45e-8269e29287a6",
   "metadata": {},
   "outputs": [],
   "source": [
    "data_path = Path('D:\\python_algorithm\\machinelearinginaction\\《机器学习实战》Python3代码\\Ch13')"
   ]
  },
  {
   "cell_type": "code",
   "execution_count": 22,
   "id": "d8c9b862-c06f-43f8-a735-30f9a0250a6f",
   "metadata": {},
   "outputs": [],
   "source": [
    "dataMat = loadDataSet(data_path / 'testSet.txt')"
   ]
  },
  {
   "cell_type": "code",
   "execution_count": 29,
   "id": "1abc076d-e320-42e0-8a33-54069e2924b4",
   "metadata": {},
   "outputs": [],
   "source": [
    "lowData,reconMat = pca(dataMat,1)"
   ]
  },
  {
   "cell_type": "code",
   "execution_count": 30,
   "id": "4ceed31a-bbc7-4da5-9011-d136fab5ecf9",
   "metadata": {},
   "outputs": [
    {
     "data": {
      "text/plain": [
       "matrix([[10.37044569, 11.23955536],\n",
       "        [10.55719313, 11.54594665],\n",
       "        [ 9.01323877,  9.01282393],\n",
       "        ...,\n",
       "        [ 9.32502753,  9.52436704],\n",
       "        [ 9.0946364 ,  9.14637075],\n",
       "        [ 9.16271152,  9.2580597 ]])"
      ]
     },
     "execution_count": 30,
     "metadata": {},
     "output_type": "execute_result"
    }
   ],
   "source": [
    "reconMat"
   ]
  },
  {
   "cell_type": "code",
   "execution_count": 31,
   "id": "18c40e1a-c9f4-4407-b2f2-27e91a1fe169",
   "metadata": {},
   "outputs": [
    {
     "data": {
      "text/plain": [
       "<matplotlib.collections.PathCollection at 0x1cd325cc5e0>"
      ]
     },
     "execution_count": 31,
     "metadata": {},
     "output_type": "execute_result"
    },
    {
     "data": {
      "image/png": "[encoded data removed]",
      "text/plain": [
       "<Figure size 432x288 with 1 Axes>"
      ]
     },
     "metadata": {
      "needs_background": "light"
     },
     "output_type": "display_data"
    }
   ],
   "source": [
    "import matplotlib.pyplot as plt\n",
    "fig = plt.figure()\n",
    "ax = fig.add_subplot(111)\n",
    "ax.scatter(dataMat[:,0].flatten().A[0], dataMat[:,1].flatten().A[0],marker='^',s=90)\n",
    "ax.scatter(reconMat[:,0].flatten().A[0], reconMat[:,1].flatten().A[0],marker='o',s=50,c='red')"
   ]
  },
  {
   "cell_type": "code",
   "execution_count": null,
   "id": "01f4b0c7-f8d3-42c9-8aa3-2e206a0a8aa2",
   "metadata": {},
   "outputs": [],
   "source": []
  }
 ],
 "metadata": {
  "kernelspec": {
   "display_name": "Python 3 (ipykernel)",
   "language": "python",
   "name": "python3"
  },
  "language_info": {
   "codemirror_mode": {
    "name": "ipython",
    "version": 3
   },
   "file_extension": ".py",
   "mimetype": "text/x-python",
   "name": "python",
   "nbconvert_exporter": "python",
   "pygments_lexer": "ipython3",
   "version": "3.9.1"
  }
 },
 "nbformat": 4,
 "nbformat_minor": 5
}
