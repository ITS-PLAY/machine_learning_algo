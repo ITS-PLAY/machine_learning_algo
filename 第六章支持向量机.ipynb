{
 "cells": [
  {
   "cell_type": "code",
   "execution_count": 5,
   "id": "8b714f45-3a83-44cd-bae4-76a2167a5e92",
   "metadata": {},
   "outputs": [],
   "source": [
    "import numpy as np\n",
    "import pandas as pd\n",
    "from pathlib import Path"
   ]
  },
  {
   "cell_type": "code",
   "execution_count": 1,
   "id": "fd8d1fe2-c90b-4d50-9b47-031bcca5a0fb",
   "metadata": {},
   "outputs": [],
   "source": [
    "#6.3.2 应用简化版SMO算法处理小规模数据集"
   ]
  },
  {
   "cell_type": "code",
   "execution_count": 3,
   "id": "73bff191-dcb3-4ac4-bef4-f48b79dd10ab",
   "metadata": {},
   "outputs": [],
   "source": [
    "def loadDataSet(fileName):\n",
    "    dataMat,labelMat = [],[]\n",
    "    fr = open(fileName)\n",
    "    for line in fr.readlines():\n",
    "        lineArr = line.strip().split('\\t')\n",
    "        dataMat.append([float(lineArr[0]),float(lineArr[1])])\n",
    "        labelMat.append(float(lineArr[2]))\n",
    "    return dataMat,labelMat"
   ]
  },
  {
   "cell_type": "code",
   "execution_count": 21,
   "id": "dfa79edb-e0e5-47b3-b67b-6525b788caea",
   "metadata": {},
   "outputs": [],
   "source": [
    "def selectJrand(i,m):\n",
    "    j = i\n",
    "    while j == i:\n",
    "        j = int(np.random.uniform(0,m))\n",
    "    return j\n",
    "\n",
    "def clipAlpha(aj,H,L):\n",
    "    if aj > H:\n",
    "        aj = H\n",
    "    if aj < L:\n",
    "        aj = L\n",
    "    return aj"
   ]
  },
  {
   "cell_type": "code",
   "execution_count": 22,
   "id": "6f68451b-e4dd-4ced-a9c5-62346aabbba8",
   "metadata": {},
   "outputs": [],
   "source": [
    "data_path = Path('D:\\\\python_algorithm\\\\machinelearinginaction\\\\《机器学习实战》Python3代码\\\\Ch06')\n",
    "dataArr,labelArr = loadDataSet(data_path / 'testSet.txt')"
   ]
  },
  {
   "cell_type": "code",
   "execution_count": null,
   "id": "ddcc4017-bd76-434b-b0f3-afba1e2e8781",
   "metadata": {},
   "outputs": [],
   "source": []
  },
  {
   "cell_type": "code",
   "execution_count": 35,
   "id": "42b0fce5-83cb-4d5c-896e-6315e0acab66",
   "metadata": {},
   "outputs": [],
   "source": [
    "def smoSimple(dataMatIn, classLabels, C, toler, maxIter):\n",
    "    dataMatrix = np.mat(dataMatIn)\n",
    "    labelMat = np.mat(classLabels).transpose()    #行向量转为列向量\n",
    "    b = 0\n",
    "    m,n = np.shape(dataMatrix)\n",
    "    \n",
    "    alphas = np.mat(np.zeros((m,1)))\n",
    "    iter = 0\n",
    "    \n",
    "    while iter < maxIter:\n",
    "        alphaPairsChanged = 0\n",
    "        for i in range(m):\n",
    "            fXi = float(np.multiply(alphas,labelMat).T * \\\n",
    "                        (dataMatrix*dataMatrix[i,:].T)) + b\n",
    "            Ei = fXi - float(labelMat[i])\n",
    "            \n",
    "            if ((labelMat[i] * Ei) < -toler and alphas[i] < C) or \\\n",
    "                ((labelMat[i] * Ei) > toler and alphas[i] > 0):\n",
    "                j = selectJrand(i,m)                                 #随机选择另外一个alpha\n",
    "                \n",
    "                fXj = float(np.multiply(alphas,labelMat).T * \\\n",
    "                        (dataMatrix*dataMatrix[j,:].T)) + b\n",
    "                Ej = fXj - float(labelMat[j])\n",
    "                \n",
    "                alphaIold = alphas[i].copy()\n",
    "                alphaJold = alphas[j].copy()\n",
    "                \n",
    "                if labelMat[i] != labelMat[j]:\n",
    "                    L = max(0,alphas[j] - alphas[i])\n",
    "                    H = min(C,C+alphas[j] - alphas[i])\n",
    "                else:\n",
    "                    L = max(0,alphas[j] + alphas[i] - C)\n",
    "                    H = min(C, alphas[j] + alphas[i])\n",
    "                    \n",
    "                if L == H:\n",
    "                    #print('L == H')\n",
    "                    continue\n",
    "                \n",
    "                eta = 2.0 * dataMatrix[i,:] * dataMatrix[j,:].T - \\\n",
    "                      dataMatrix[i,:] * dataMatrix[i,:].T - \\\n",
    "                      dataMatrix[j,:] * dataMatrix[j,:].T\n",
    "                \n",
    "                if eta >= 0:\n",
    "                    #print('eta >= 0')\n",
    "                    continue\n",
    "                \n",
    "                alphas[j] -= labelMat[j] * (Ei - Ej)/eta                      #求另外一个alpha的值\n",
    "                alphas[j] = clipAlpha(alphas[j], H, L)\n",
    "                \n",
    "                if abs(alphas[j] - alphaJold) < 0.00001:\n",
    "                    #print('j not moving enough')\n",
    "                    continue\n",
    "                \n",
    "                alphas[i] += labelMat[j] * labelMat[i] * (alphaJold - alphas[j])\n",
    "                \n",
    "                b1 = b - Ei - labelMat[i] * (alphas[i] - alphaIold) * \\\n",
    "                    dataMatrix[i,:] * dataMatrix[i,:].T - \\\n",
    "                    labelMat[j] * (alphas[j] - alphaJold) * \\\n",
    "                    dataMatrix[i,:] * dataMatrix[j,:].T\n",
    "                b2 = b - Ej - labelMat[i] * (alphas[i] - alphaIold) * \\\n",
    "                    dataMatrix[i,:] * dataMatrix[j,:].T - \\\n",
    "                    labelMat[j] * (alphas[j] - alphaJold) * \\\n",
    "                    dataMatrix[j,:] * dataMatrix[j,:].T\n",
    "                \n",
    "                if alphas[i] > 0 and alphas[i] < C:\n",
    "                    b = b1\n",
    "                elif alphas[j] > 0 and alphas[j] < C:\n",
    "                    b = b2\n",
    "                else:\n",
    "                    b = (b1 + b2)/2.0\n",
    "                \n",
    "                alphaPairsChanged += 1\n",
    "                \n",
    "        if alphaPairsChanged == 0:\n",
    "            iter += 1\n",
    "        else:\n",
    "            iter = 0\n",
    "        #print('iteration number: %d'%iter)\n",
    "    return b,alphas\n",
    "            "
   ]
  },
  {
   "cell_type": "code",
   "execution_count": 36,
   "id": "09239613-eed7-4281-a6d5-21623a37b16b",
   "metadata": {},
   "outputs": [],
   "source": [
    "b,alphas = smoSimple(dataArr,labelArr,0.6,0.001,40)"
   ]
  },
  {
   "cell_type": "code",
   "execution_count": 37,
   "id": "936e8bb7-3586-478d-849b-202b1733777e",
   "metadata": {},
   "outputs": [
    {
     "data": {
      "text/plain": [
       "matrix([[-3.82460044]])"
      ]
     },
     "execution_count": 37,
     "metadata": {},
     "output_type": "execute_result"
    }
   ],
   "source": [
    "b"
   ]
  },
  {
   "cell_type": "code",
   "execution_count": 38,
   "id": "d756766a-f641-422c-9fc0-d89d19cfcbdc",
   "metadata": {},
   "outputs": [
    {
     "data": {
      "text/plain": [
       "matrix([[0.10716938, 0.2567208 , 0.01883409, 0.34505608]])"
      ]
     },
     "execution_count": 38,
     "metadata": {},
     "output_type": "execute_result"
    }
   ],
   "source": [
    "alphas[alphas>0]"
   ]
  },
  {
   "cell_type": "code",
   "execution_count": 39,
   "id": "0252e98e-dcaa-4124-8fa2-e4985742748d",
   "metadata": {},
   "outputs": [
    {
     "name": "stdout",
     "output_type": "stream",
     "text": [
      "[4.658191, 3.507396] -1.0\n",
      "[3.457096, -0.082216] -1.0\n",
      "[5.286862, -2.358286] 1.0\n",
      "[6.080573, 0.418886] 1.0\n"
     ]
    }
   ],
   "source": [
    "for i in range(100):\n",
    "    if alphas[i] > 0.0:\n",
    "        print (dataArr[i],labelArr[i])"
   ]
  },
  {
   "cell_type": "code",
   "execution_count": null,
   "id": "6ba0599a-56c7-4f67-bbd4-50382fc5197d",
   "metadata": {},
   "outputs": [],
   "source": []
  }
 ],
 "metadata": {
  "kernelspec": {
   "display_name": "Python 3 (ipykernel)",
   "language": "python",
   "name": "python3"
  },
  "language_info": {
   "codemirror_mode": {
    "name": "ipython",
    "version": 3
   },
   "file_extension": ".py",
   "mimetype": "text/x-python",
   "name": "python",
   "nbconvert_exporter": "python",
   "pygments_lexer": "ipython3",
   "version": "3.9.1"
  }
 },
 "nbformat": 4,
 "nbformat_minor": 5
}
