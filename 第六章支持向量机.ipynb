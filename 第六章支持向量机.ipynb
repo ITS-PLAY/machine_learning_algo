{
 "cells": [
  {
   "cell_type": "code",
   "execution_count": 1,
   "id": "8b714f45-3a83-44cd-bae4-76a2167a5e92",
   "metadata": {},
   "outputs": [],
   "source": [
    "import numpy as np\n",
    "import pandas as pd\n",
    "from pathlib import Path"
   ]
  },
  {
   "cell_type": "code",
   "execution_count": 2,
   "id": "fd8d1fe2-c90b-4d50-9b47-031bcca5a0fb",
   "metadata": {},
   "outputs": [],
   "source": [
    "#6.3.2 应用简化版SMO算法处理小规模数据集"
   ]
  },
  {
   "cell_type": "code",
   "execution_count": 3,
   "id": "73bff191-dcb3-4ac4-bef4-f48b79dd10ab",
   "metadata": {},
   "outputs": [],
   "source": [
    "def loadDataSet(fileName):\n",
    "    dataMat,labelMat = [],[]\n",
    "    fr = open(fileName)\n",
    "    for line in fr.readlines():\n",
    "        lineArr = line.strip().split('\\t')\n",
    "        dataMat.append([float(lineArr[0]),float(lineArr[1])])\n",
    "        labelMat.append(float(lineArr[2]))\n",
    "    return dataMat,labelMat"
   ]
  },
  {
   "cell_type": "code",
   "execution_count": 4,
   "id": "dfa79edb-e0e5-47b3-b67b-6525b788caea",
   "metadata": {},
   "outputs": [],
   "source": [
    "def selectJrand(i,m):\n",
    "    j = i\n",
    "    while j == i:\n",
    "        j = int(np.random.uniform(0,m))\n",
    "    return j\n",
    "\n",
    "def clipAlpha(aj,H,L):\n",
    "    if aj > H:\n",
    "        aj = H\n",
    "    if aj < L:\n",
    "        aj = L\n",
    "    return aj"
   ]
  },
  {
   "cell_type": "code",
   "execution_count": 5,
   "id": "6f68451b-e4dd-4ced-a9c5-62346aabbba8",
   "metadata": {},
   "outputs": [],
   "source": [
    "data_path = Path('D:\\\\python_algorithm\\\\machinelearinginaction\\\\《机器学习实战》Python3代码\\\\Ch06')\n",
    "dataArr,labelArr = loadDataSet(data_path / 'testSet.txt')"
   ]
  },
  {
   "cell_type": "code",
   "execution_count": null,
   "id": "ddcc4017-bd76-434b-b0f3-afba1e2e8781",
   "metadata": {},
   "outputs": [],
   "source": []
  },
  {
   "cell_type": "code",
   "execution_count": 6,
   "id": "42b0fce5-83cb-4d5c-896e-6315e0acab66",
   "metadata": {},
   "outputs": [],
   "source": [
    "def smoSimple(dataMatIn, classLabels, C, toler, maxIter):\n",
    "    dataMatrix = np.mat(dataMatIn)\n",
    "    labelMat = np.mat(classLabels).transpose()    #行向量转为列向量\n",
    "    b = 0\n",
    "    m,n = np.shape(dataMatrix)\n",
    "    \n",
    "    alphas = np.mat(np.zeros((m,1)))\n",
    "    iter = 0\n",
    "    \n",
    "    while iter < maxIter:\n",
    "        alphaPairsChanged = 0\n",
    "        for i in range(m):\n",
    "            fXi = float(np.multiply(alphas,labelMat).T * \\\n",
    "                        (dataMatrix*dataMatrix[i,:].T)) + b\n",
    "            Ei = fXi - float(labelMat[i])\n",
    "            \n",
    "            if ((labelMat[i] * Ei) < -toler and alphas[i] < C) or \\\n",
    "                ((labelMat[i] * Ei) > toler and alphas[i] > 0):\n",
    "                j = selectJrand(i,m)                                 #随机选择另外一个alpha\n",
    "                \n",
    "                fXj = float(np.multiply(alphas,labelMat).T * \\\n",
    "                        (dataMatrix*dataMatrix[j,:].T)) + b\n",
    "                Ej = fXj - float(labelMat[j])\n",
    "                \n",
    "                alphaIold = alphas[i].copy()\n",
    "                alphaJold = alphas[j].copy()\n",
    "                \n",
    "                if labelMat[i] != labelMat[j]:\n",
    "                    L = max(0,alphas[j] - alphas[i])\n",
    "                    H = min(C,C+alphas[j] - alphas[i])\n",
    "                else:\n",
    "                    L = max(0,alphas[j] + alphas[i] - C)\n",
    "                    H = min(C, alphas[j] + alphas[i])\n",
    "                    \n",
    "                if L == H:\n",
    "                    #print('L == H')\n",
    "                    continue\n",
    "                \n",
    "                eta = 2.0 * dataMatrix[i,:] * dataMatrix[j,:].T - \\\n",
    "                      dataMatrix[i,:] * dataMatrix[i,:].T - \\\n",
    "                      dataMatrix[j,:] * dataMatrix[j,:].T\n",
    "                \n",
    "                if eta >= 0:\n",
    "                    #print('eta >= 0')\n",
    "                    continue\n",
    "                \n",
    "                alphas[j] -= labelMat[j] * (Ei - Ej)/eta                      #求另外一个alpha的值\n",
    "                alphas[j] = clipAlpha(alphas[j], H, L)\n",
    "                \n",
    "                if abs(alphas[j] - alphaJold) < 0.00001:\n",
    "                    #print('j not moving enough')\n",
    "                    continue\n",
    "                \n",
    "                alphas[i] += labelMat[j] * labelMat[i] * (alphaJold - alphas[j])\n",
    "                \n",
    "                b1 = b - Ei - labelMat[i] * (alphas[i] - alphaIold) * \\\n",
    "                    dataMatrix[i,:] * dataMatrix[i,:].T - \\\n",
    "                    labelMat[j] * (alphas[j] - alphaJold) * \\\n",
    "                    dataMatrix[i,:] * dataMatrix[j,:].T\n",
    "                b2 = b - Ej - labelMat[i] * (alphas[i] - alphaIold) * \\\n",
    "                    dataMatrix[i,:] * dataMatrix[j,:].T - \\\n",
    "                    labelMat[j] * (alphas[j] - alphaJold) * \\\n",
    "                    dataMatrix[j,:] * dataMatrix[j,:].T\n",
    "                \n",
    "                if alphas[i] > 0 and alphas[i] < C:\n",
    "                    b = b1\n",
    "                elif alphas[j] > 0 and alphas[j] < C:\n",
    "                    b = b2\n",
    "                else:\n",
    "                    b = (b1 + b2)/2.0\n",
    "                \n",
    "                alphaPairsChanged += 1\n",
    "                \n",
    "        if alphaPairsChanged == 0:\n",
    "            iter += 1\n",
    "        else:\n",
    "            iter = 0\n",
    "        #print('iteration number: %d'%iter)\n",
    "    return b,alphas\n",
    "            "
   ]
  },
  {
   "cell_type": "code",
   "execution_count": 7,
   "id": "09239613-eed7-4281-a6d5-21623a37b16b",
   "metadata": {},
   "outputs": [],
   "source": [
    "b,alphas = smoSimple(dataArr,labelArr,0.6,0.001,40)"
   ]
  },
  {
   "cell_type": "code",
   "execution_count": 8,
   "id": "936e8bb7-3586-478d-849b-202b1733777e",
   "metadata": {},
   "outputs": [
    {
     "data": {
      "text/plain": [
       "matrix([[-3.80854664]])"
      ]
     },
     "execution_count": 8,
     "metadata": {},
     "output_type": "execute_result"
    }
   ],
   "source": [
    "b"
   ]
  },
  {
   "cell_type": "code",
   "execution_count": 9,
   "id": "d756766a-f641-422c-9fc0-d89d19cfcbdc",
   "metadata": {},
   "outputs": [
    {
     "data": {
      "text/plain": [
       "matrix([[4.04250855e-02, 3.18466179e-01, 1.09613813e-01, 2.49277452e-01,\n",
       "         1.38777878e-17]])"
      ]
     },
     "execution_count": 9,
     "metadata": {},
     "output_type": "execute_result"
    }
   ],
   "source": [
    "alphas[alphas>0]"
   ]
  },
  {
   "cell_type": "code",
   "execution_count": 10,
   "id": "0252e98e-dcaa-4124-8fa2-e4985742748d",
   "metadata": {},
   "outputs": [
    {
     "name": "stdout",
     "output_type": "stream",
     "text": [
      "[4.658191, 3.507396] -1.0\n",
      "[3.457096, -0.082216] -1.0\n",
      "[5.286862, -2.358286] 1.0\n",
      "[6.080573, 0.418886] 1.0\n",
      "[6.543888, 0.433164] 1.0\n"
     ]
    }
   ],
   "source": [
    "for i in range(100):\n",
    "    if alphas[i] > 0.0:\n",
    "        print (dataArr[i],labelArr[i])"
   ]
  },
  {
   "cell_type": "code",
   "execution_count": null,
   "id": "6ba0599a-56c7-4f67-bbd4-50382fc5197d",
   "metadata": {},
   "outputs": [],
   "source": []
  },
  {
   "cell_type": "code",
   "execution_count": 11,
   "id": "53974551-c220-40ee-903b-fe1d8e1e5727",
   "metadata": {},
   "outputs": [],
   "source": [
    "#6.4 SMO算法的加速优化"
   ]
  },
  {
   "cell_type": "code",
   "execution_count": 39,
   "id": "592b0841-b920-4bcc-9a09-bff579657206",
   "metadata": {},
   "outputs": [],
   "source": [
    "class optStruct:\n",
    "    def __init__(self,dataMatIn, classLabels, C, toler, kTup):\n",
    "        self.X = dataMatIn\n",
    "        self.labelMat = classLabels\n",
    "        self.C = C\n",
    "        self.tol = toler\n",
    "        self.m = np.shape(dataMatIn)[0]\n",
    "        self.alphas = np.mat(np.zeros((self.m,1)))\n",
    "        self.b = 0\n",
    "        self.eCache = np.mat(np.zeros((self.m,2)))  #第1列表示是否有效的标志位，第2列表示实际的E值\n",
    "        \n",
    "def calcEk(oS,k):\n",
    "    fXk = float(np.multiply(oS.alphas,oS.labelMat).T * \\\n",
    "               (oS.X * oS.X[k,:].T)) + oS.b\n",
    "    Ek = fXk - float(oS.labelMat[k])\n",
    "    return Ek\n",
    "\n",
    "def selectJ(i,oS,Ei):        #内循环的启发式方法\n",
    "    maxK = -1\n",
    "    maxDeltaE = 0\n",
    "    Ej = 0\n",
    "    \n",
    "    oS.eCache[i] = [1,Ei]\n",
    "    validEcacheList = np.nonzero(oS.eCache[:,0].A)[0]\n",
    "    if len(validEcacheList) > 1:\n",
    "        for k in validEcacheList:\n",
    "            if k ==i:\n",
    "                continue\n",
    "            Ek = calcEk(oS,k)\n",
    "            deltaE = abs(Ei - Ek)\n",
    "            if deltaE > maxDeltaE:\n",
    "                maxK = k\n",
    "                maxDeltaE = deltaE\n",
    "                Ej = Ek\n",
    "        return maxK,Ej\n",
    "    else:\n",
    "        j = selectJrand(i,oS.m)\n",
    "        Ej = calcEk(oS,j)\n",
    "    return j,Ej\n",
    "\n",
    "def updateEk(oS,k):\n",
    "    Ek = calcEk(oS,k)\n",
    "    oS.eCache[k] = [1,Ek]\n",
    "    "
   ]
  },
  {
   "cell_type": "code",
   "execution_count": 26,
   "id": "63aa54e2-69b7-4d95-a0ff-03aa98638b5f",
   "metadata": {},
   "outputs": [],
   "source": [
    "##SMO算法中寻找决策边界的优化历程"
   ]
  },
  {
   "cell_type": "code",
   "execution_count": 27,
   "id": "667faded-12af-450a-ac8a-7359605a0602",
   "metadata": {},
   "outputs": [],
   "source": [
    "def innerL(i, oS):\n",
    "    Ei = calcEk(oS, i)\n",
    "    if (oS.labelMat[i] * Ei < -oS.tol and oS.alphas[i] < oS.C) or \\\n",
    "        (oS.labelMat[i] * Ei > oS.tol and oS.alphas[i] > 0):\n",
    "        j,Ej = selectJ(i,oS,Ei)\n",
    "        alphaIold = oS.alphas[i].copy()\n",
    "        alphaJold = oS.alphas[j].copy()\n",
    "        \n",
    "        if oS.labelMat[i] != oS.labelMat[j]:\n",
    "            L = max(0, oS.alphas[j] - oS.alphas[i])\n",
    "            H = min(oS.C, oS.C + oS.alphas[j] - oS.alphas[i])\n",
    "        else:\n",
    "            L = max(0, oS.alphas[j] + oS.alphas[i] - oS.C)\n",
    "            H = min(oS.C, oS.alphas[j] + oS.alphas[i])\n",
    "            \n",
    "        if L == H:\n",
    "            #print('L == H')\n",
    "            return 0\n",
    "        eta = 2.0 * oS.X[i,:] * oS.X[j,:].T - oS.X[i,:] * oS.X[i,:].T - \\\n",
    "              oS.X[j,:] * oS.X[j,:].T\n",
    "        if eta >= 0:\n",
    "           # print('eta >= 0')\n",
    "            return 0\n",
    "        oS.alphas[j] -= oS.labelMat[j] * (Ei - Ej)/eta\n",
    "        oS.alphas[j] = clipAlpha(oS.alphas[j],H,L)\n",
    "        updateEk(oS,j)\n",
    "        \n",
    "        if abs(oS.alphas[j] - alphaJold) < 0.00001:\n",
    "            #print('j not moving enough')\n",
    "            return 0\n",
    "        oS.alphas[i] += oS.labelMat[j] * oS.labelMat[i] * (alphaJold - oS.alphas[j])\n",
    "        updateEk(oS,i)\n",
    "        \n",
    "        b1 = oS.b - Ei - oS.labelMat[i] * (oS.alphas[i] - alphaIold) * \\\n",
    "            oS.X[i,:] * oS.X[i,:].T - \\\n",
    "            oS.labelMat[j] * (oS.alphas[j] - alphaJold) * \\\n",
    "            oS.X[i,:] * oS.X[j,:].T\n",
    "        b2 = oS.b - Ej - oS.labelMat[i] * (oS.alphas[i] - alphaIold) * \\\n",
    "            oS.X[i,:] * oS.X[j,:].T - \\\n",
    "            oS.labelMat[j] * (oS.alphas[j] - alphaJold) * \\\n",
    "            oS.X[j,:] * oS.X[j,:].T\n",
    "        if 0 < oS.alphas[i] and oS.C > oS.alphas[i]:\n",
    "            oS.b = b1\n",
    "        elif 0 < oS.alphas[j] and oS.C > oS.alphas[i]:\n",
    "            oS.b = b2\n",
    "        else:\n",
    "            oS.b = (b1 + b2)/2.0\n",
    "        return 1\n",
    "    else:\n",
    "        return 0"
   ]
  },
  {
   "cell_type": "code",
   "execution_count": 28,
   "id": "e1502f10-e35a-49ae-a01b-86784ffe5f7a",
   "metadata": {},
   "outputs": [],
   "source": [
    "##完整的SMO外循环代码"
   ]
  },
  {
   "cell_type": "code",
   "execution_count": 29,
   "id": "33cf6d6c-321d-46f3-94e0-34ee4d80c15d",
   "metadata": {},
   "outputs": [],
   "source": [
    "def smoP(dataMatIn,classLabels, C, toler, maxIter, kTup=('lin',0)):\n",
    "    oS = optStruct(np.mat(dataMatIn),np.mat(classLabels).transpose(),C,toler, kTup)\n",
    "    iter = 0\n",
    "    \n",
    "    entireSet = True; alphaPairsChanged = 0\n",
    "    while iter <maxIter and (alphaPairsChanged > 0 or entireSet):\n",
    "        alphaPairsChanged = 0\n",
    "        if entireSet:\n",
    "            for i in range(oS.m):\n",
    "                alphaPairsChanged += innerL(i,oS)\n",
    "                print(\"fullSet, iter: %d i:%d, pairs changed %d\" % (iter,i,alphaPairsChanged))\n",
    "            iter += 1\n",
    "        else:\n",
    "            nonBounds = np.nonzero((oS.alphas.A > 0) * (oS.alphas.A < C))[0]\n",
    "            for i in nonBounds:\n",
    "                alphaPairsChanged += innerL(i,oS)\n",
    "                print(\"non-bound, iter: %d i:%d, pairs changed %d\" % (iter,i,alphaPairsChanged))\n",
    "            iter += 1\n",
    "        if entireSet:\n",
    "            entireSet = False\n",
    "        elif alphaPairsChanged == 0:\n",
    "            entireSet = True\n",
    "            print(\"iteration number: %d\" % iter)\n",
    "    return oS.b,oS.alphas    "
   ]
  },
  {
   "cell_type": "code",
   "execution_count": null,
   "id": "c3071b27-82ab-4d78-b8d3-73a40182d516",
   "metadata": {},
   "outputs": [],
   "source": []
  },
  {
   "cell_type": "code",
   "execution_count": 40,
   "id": "f3574fbe-a3bc-4306-826e-f9d65a77a6bb",
   "metadata": {},
   "outputs": [
    {
     "name": "stdout",
     "output_type": "stream",
     "text": [
      "fullSet, iter: 0 i:0, pairs changed 0\n",
      "fullSet, iter: 0 i:1, pairs changed 0\n",
      "fullSet, iter: 0 i:2, pairs changed 1\n",
      "fullSet, iter: 0 i:3, pairs changed 1\n",
      "fullSet, iter: 0 i:4, pairs changed 2\n",
      "fullSet, iter: 0 i:5, pairs changed 2\n",
      "fullSet, iter: 0 i:6, pairs changed 2\n",
      "fullSet, iter: 0 i:7, pairs changed 2\n",
      "fullSet, iter: 0 i:8, pairs changed 2\n",
      "fullSet, iter: 0 i:9, pairs changed 2\n",
      "fullSet, iter: 0 i:10, pairs changed 2\n",
      "fullSet, iter: 0 i:11, pairs changed 2\n",
      "fullSet, iter: 0 i:12, pairs changed 2\n",
      "fullSet, iter: 0 i:13, pairs changed 2\n",
      "fullSet, iter: 0 i:14, pairs changed 2\n",
      "fullSet, iter: 0 i:15, pairs changed 2\n",
      "fullSet, iter: 0 i:16, pairs changed 2\n",
      "fullSet, iter: 0 i:17, pairs changed 2\n",
      "fullSet, iter: 0 i:18, pairs changed 3\n",
      "fullSet, iter: 0 i:19, pairs changed 3\n",
      "fullSet, iter: 0 i:20, pairs changed 3\n",
      "fullSet, iter: 0 i:21, pairs changed 3\n",
      "fullSet, iter: 0 i:22, pairs changed 3\n",
      "fullSet, iter: 0 i:23, pairs changed 3\n",
      "fullSet, iter: 0 i:24, pairs changed 3\n",
      "fullSet, iter: 0 i:25, pairs changed 4\n",
      "fullSet, iter: 0 i:26, pairs changed 4\n",
      "fullSet, iter: 0 i:27, pairs changed 4\n",
      "fullSet, iter: 0 i:28, pairs changed 4\n",
      "fullSet, iter: 0 i:29, pairs changed 4\n",
      "fullSet, iter: 0 i:30, pairs changed 4\n",
      "fullSet, iter: 0 i:31, pairs changed 4\n",
      "fullSet, iter: 0 i:32, pairs changed 4\n",
      "fullSet, iter: 0 i:33, pairs changed 4\n",
      "fullSet, iter: 0 i:34, pairs changed 4\n",
      "fullSet, iter: 0 i:35, pairs changed 4\n",
      "fullSet, iter: 0 i:36, pairs changed 4\n",
      "fullSet, iter: 0 i:37, pairs changed 4\n",
      "fullSet, iter: 0 i:38, pairs changed 4\n",
      "fullSet, iter: 0 i:39, pairs changed 4\n",
      "fullSet, iter: 0 i:40, pairs changed 4\n",
      "fullSet, iter: 0 i:41, pairs changed 4\n",
      "fullSet, iter: 0 i:42, pairs changed 4\n",
      "fullSet, iter: 0 i:43, pairs changed 4\n",
      "fullSet, iter: 0 i:44, pairs changed 4\n",
      "fullSet, iter: 0 i:45, pairs changed 4\n",
      "fullSet, iter: 0 i:46, pairs changed 5\n",
      "fullSet, iter: 0 i:47, pairs changed 5\n",
      "fullSet, iter: 0 i:48, pairs changed 5\n",
      "fullSet, iter: 0 i:49, pairs changed 5\n",
      "fullSet, iter: 0 i:50, pairs changed 5\n",
      "fullSet, iter: 0 i:51, pairs changed 5\n",
      "fullSet, iter: 0 i:52, pairs changed 5\n",
      "fullSet, iter: 0 i:53, pairs changed 5\n",
      "fullSet, iter: 0 i:54, pairs changed 5\n",
      "fullSet, iter: 0 i:55, pairs changed 5\n",
      "fullSet, iter: 0 i:56, pairs changed 5\n",
      "fullSet, iter: 0 i:57, pairs changed 5\n",
      "fullSet, iter: 0 i:58, pairs changed 5\n",
      "fullSet, iter: 0 i:59, pairs changed 5\n",
      "fullSet, iter: 0 i:60, pairs changed 5\n",
      "fullSet, iter: 0 i:61, pairs changed 5\n",
      "fullSet, iter: 0 i:62, pairs changed 5\n",
      "fullSet, iter: 0 i:63, pairs changed 5\n",
      "fullSet, iter: 0 i:64, pairs changed 5\n",
      "fullSet, iter: 0 i:65, pairs changed 5\n",
      "fullSet, iter: 0 i:66, pairs changed 5\n",
      "fullSet, iter: 0 i:67, pairs changed 5\n",
      "fullSet, iter: 0 i:68, pairs changed 5\n",
      "fullSet, iter: 0 i:69, pairs changed 5\n",
      "fullSet, iter: 0 i:70, pairs changed 5\n",
      "fullSet, iter: 0 i:71, pairs changed 5\n",
      "fullSet, iter: 0 i:72, pairs changed 5\n",
      "fullSet, iter: 0 i:73, pairs changed 5\n",
      "fullSet, iter: 0 i:74, pairs changed 5\n",
      "fullSet, iter: 0 i:75, pairs changed 5\n",
      "fullSet, iter: 0 i:76, pairs changed 5\n",
      "fullSet, iter: 0 i:77, pairs changed 5\n",
      "fullSet, iter: 0 i:78, pairs changed 5\n",
      "fullSet, iter: 0 i:79, pairs changed 5\n",
      "fullSet, iter: 0 i:80, pairs changed 5\n",
      "fullSet, iter: 0 i:81, pairs changed 5\n",
      "fullSet, iter: 0 i:82, pairs changed 5\n",
      "fullSet, iter: 0 i:83, pairs changed 5\n",
      "fullSet, iter: 0 i:84, pairs changed 5\n",
      "fullSet, iter: 0 i:85, pairs changed 5\n",
      "fullSet, iter: 0 i:86, pairs changed 5\n",
      "fullSet, iter: 0 i:87, pairs changed 5\n",
      "fullSet, iter: 0 i:88, pairs changed 5\n",
      "fullSet, iter: 0 i:89, pairs changed 5\n",
      "fullSet, iter: 0 i:90, pairs changed 5\n",
      "fullSet, iter: 0 i:91, pairs changed 5\n",
      "fullSet, iter: 0 i:92, pairs changed 5\n",
      "fullSet, iter: 0 i:93, pairs changed 5\n",
      "fullSet, iter: 0 i:94, pairs changed 6\n",
      "fullSet, iter: 0 i:95, pairs changed 6\n",
      "fullSet, iter: 0 i:96, pairs changed 6\n",
      "fullSet, iter: 0 i:97, pairs changed 6\n",
      "fullSet, iter: 0 i:98, pairs changed 6\n",
      "fullSet, iter: 0 i:99, pairs changed 6\n",
      "non-bound, iter: 1 i:0, pairs changed 0\n",
      "non-bound, iter: 1 i:3, pairs changed 0\n",
      "non-bound, iter: 1 i:4, pairs changed 0\n",
      "non-bound, iter: 1 i:17, pairs changed 0\n",
      "non-bound, iter: 1 i:18, pairs changed 0\n",
      "non-bound, iter: 1 i:25, pairs changed 0\n",
      "non-bound, iter: 1 i:46, pairs changed 0\n",
      "non-bound, iter: 1 i:55, pairs changed 0\n",
      "non-bound, iter: 1 i:94, pairs changed 0\n",
      "iteration number: 2\n",
      "fullSet, iter: 2 i:0, pairs changed 0\n",
      "fullSet, iter: 2 i:1, pairs changed 0\n",
      "fullSet, iter: 2 i:2, pairs changed 0\n",
      "fullSet, iter: 2 i:3, pairs changed 0\n",
      "fullSet, iter: 2 i:4, pairs changed 0\n",
      "fullSet, iter: 2 i:5, pairs changed 0\n",
      "fullSet, iter: 2 i:6, pairs changed 0\n",
      "fullSet, iter: 2 i:7, pairs changed 0\n",
      "fullSet, iter: 2 i:8, pairs changed 0\n",
      "fullSet, iter: 2 i:9, pairs changed 0\n",
      "fullSet, iter: 2 i:10, pairs changed 0\n",
      "fullSet, iter: 2 i:11, pairs changed 0\n",
      "fullSet, iter: 2 i:12, pairs changed 0\n",
      "fullSet, iter: 2 i:13, pairs changed 0\n",
      "fullSet, iter: 2 i:14, pairs changed 0\n",
      "fullSet, iter: 2 i:15, pairs changed 0\n",
      "fullSet, iter: 2 i:16, pairs changed 0\n",
      "fullSet, iter: 2 i:17, pairs changed 0\n",
      "fullSet, iter: 2 i:18, pairs changed 0\n",
      "fullSet, iter: 2 i:19, pairs changed 0\n",
      "fullSet, iter: 2 i:20, pairs changed 0\n",
      "fullSet, iter: 2 i:21, pairs changed 0\n",
      "fullSet, iter: 2 i:22, pairs changed 0\n",
      "fullSet, iter: 2 i:23, pairs changed 0\n",
      "fullSet, iter: 2 i:24, pairs changed 0\n",
      "fullSet, iter: 2 i:25, pairs changed 0\n",
      "fullSet, iter: 2 i:26, pairs changed 0\n",
      "fullSet, iter: 2 i:27, pairs changed 0\n",
      "fullSet, iter: 2 i:28, pairs changed 0\n",
      "fullSet, iter: 2 i:29, pairs changed 0\n",
      "fullSet, iter: 2 i:30, pairs changed 0\n",
      "fullSet, iter: 2 i:31, pairs changed 0\n",
      "fullSet, iter: 2 i:32, pairs changed 0\n",
      "fullSet, iter: 2 i:33, pairs changed 0\n",
      "fullSet, iter: 2 i:34, pairs changed 0\n",
      "fullSet, iter: 2 i:35, pairs changed 0\n",
      "fullSet, iter: 2 i:36, pairs changed 0\n",
      "fullSet, iter: 2 i:37, pairs changed 0\n",
      "fullSet, iter: 2 i:38, pairs changed 0\n",
      "fullSet, iter: 2 i:39, pairs changed 0\n",
      "fullSet, iter: 2 i:40, pairs changed 0\n",
      "fullSet, iter: 2 i:41, pairs changed 0\n",
      "fullSet, iter: 2 i:42, pairs changed 0\n",
      "fullSet, iter: 2 i:43, pairs changed 0\n",
      "fullSet, iter: 2 i:44, pairs changed 0\n",
      "fullSet, iter: 2 i:45, pairs changed 0\n",
      "fullSet, iter: 2 i:46, pairs changed 0\n",
      "fullSet, iter: 2 i:47, pairs changed 0\n",
      "fullSet, iter: 2 i:48, pairs changed 0\n",
      "fullSet, iter: 2 i:49, pairs changed 0\n",
      "fullSet, iter: 2 i:50, pairs changed 0\n",
      "fullSet, iter: 2 i:51, pairs changed 0\n",
      "fullSet, iter: 2 i:52, pairs changed 0\n",
      "fullSet, iter: 2 i:53, pairs changed 0\n",
      "fullSet, iter: 2 i:54, pairs changed 0\n",
      "fullSet, iter: 2 i:55, pairs changed 0\n",
      "fullSet, iter: 2 i:56, pairs changed 0\n",
      "fullSet, iter: 2 i:57, pairs changed 0\n",
      "fullSet, iter: 2 i:58, pairs changed 0\n",
      "fullSet, iter: 2 i:59, pairs changed 0\n",
      "fullSet, iter: 2 i:60, pairs changed 0\n",
      "fullSet, iter: 2 i:61, pairs changed 0\n",
      "fullSet, iter: 2 i:62, pairs changed 0\n",
      "fullSet, iter: 2 i:63, pairs changed 0\n",
      "fullSet, iter: 2 i:64, pairs changed 0\n",
      "fullSet, iter: 2 i:65, pairs changed 0\n",
      "fullSet, iter: 2 i:66, pairs changed 0\n",
      "fullSet, iter: 2 i:67, pairs changed 0\n",
      "fullSet, iter: 2 i:68, pairs changed 0\n",
      "fullSet, iter: 2 i:69, pairs changed 0\n",
      "fullSet, iter: 2 i:70, pairs changed 0\n",
      "fullSet, iter: 2 i:71, pairs changed 0\n",
      "fullSet, iter: 2 i:72, pairs changed 0\n",
      "fullSet, iter: 2 i:73, pairs changed 0\n",
      "fullSet, iter: 2 i:74, pairs changed 0\n",
      "fullSet, iter: 2 i:75, pairs changed 0\n",
      "fullSet, iter: 2 i:76, pairs changed 0\n",
      "fullSet, iter: 2 i:77, pairs changed 0\n",
      "fullSet, iter: 2 i:78, pairs changed 0\n",
      "fullSet, iter: 2 i:79, pairs changed 0\n",
      "fullSet, iter: 2 i:80, pairs changed 0\n",
      "fullSet, iter: 2 i:81, pairs changed 0\n",
      "fullSet, iter: 2 i:82, pairs changed 0\n",
      "fullSet, iter: 2 i:83, pairs changed 0\n",
      "fullSet, iter: 2 i:84, pairs changed 0\n",
      "fullSet, iter: 2 i:85, pairs changed 0\n",
      "fullSet, iter: 2 i:86, pairs changed 0\n",
      "fullSet, iter: 2 i:87, pairs changed 0\n",
      "fullSet, iter: 2 i:88, pairs changed 0\n",
      "fullSet, iter: 2 i:89, pairs changed 0\n",
      "fullSet, iter: 2 i:90, pairs changed 0\n",
      "fullSet, iter: 2 i:91, pairs changed 0\n",
      "fullSet, iter: 2 i:92, pairs changed 0\n",
      "fullSet, iter: 2 i:93, pairs changed 0\n",
      "fullSet, iter: 2 i:94, pairs changed 0\n",
      "fullSet, iter: 2 i:95, pairs changed 0\n",
      "fullSet, iter: 2 i:96, pairs changed 0\n",
      "fullSet, iter: 2 i:97, pairs changed 0\n",
      "fullSet, iter: 2 i:98, pairs changed 0\n",
      "fullSet, iter: 2 i:99, pairs changed 0\n"
     ]
    },
    {
     "name": "stderr",
     "output_type": "stream",
     "text": [
      "C:\\Users\\ITS\\AppData\\Local\\Temp/ipykernel_17300/1773793700.py:23: DeprecationWarning: setting an array element with a sequence. This was supported in some cases where the elements are arrays with a single element. For example `np.array([1, np.array([2])], dtype=int)`. In the future this will raise the same ValueError as `np.array([1, [2]], dtype=int)`.\n",
      "  oS.eCache[i] = [1,Ei]\n",
      "C:\\Users\\ITS\\AppData\\Local\\Temp/ipykernel_17300/1773793700.py:43: DeprecationWarning: setting an array element with a sequence. This was supported in some cases where the elements are arrays with a single element. For example `np.array([1, np.array([2])], dtype=int)`. In the future this will raise the same ValueError as `np.array([1, [2]], dtype=int)`.\n",
      "  oS.eCache[k] = [1,Ek]\n"
     ]
    }
   ],
   "source": [
    "b,alphas = smoP(dataArr,labelArr,0.6,0.001,40)"
   ]
  },
  {
   "cell_type": "code",
   "execution_count": 41,
   "id": "5dcbe9b3-2054-4ab8-be81-2caa84e7b9f1",
   "metadata": {},
   "outputs": [],
   "source": [
    "def calcWs(alphas,dataArr,classLabels):\n",
    "    X = np.mat(dataArr); labelMat = np.mat(classLabels).transpose()\n",
    "    m,n = np.shape(X)\n",
    "    w = np.zeros((n,1))\n",
    "    for i in range(m):\n",
    "        w += np.multiply(alphas[i]*labelMat[i],X[i,:].T)\n",
    "    return w"
   ]
  },
  {
   "cell_type": "code",
   "execution_count": 43,
   "id": "6b9d0a8e-d0d9-4ced-9f57-4d72527fe73f",
   "metadata": {},
   "outputs": [],
   "source": [
    "ws = calcWs(alphas,dataArr,labelArr)"
   ]
  },
  {
   "cell_type": "code",
   "execution_count": 44,
   "id": "8588fcef-4a12-425d-a90c-2607bad7a4fb",
   "metadata": {},
   "outputs": [
    {
     "data": {
      "text/plain": [
       "array([[ 0.65307162],\n",
       "       [-0.17196128]])"
      ]
     },
     "execution_count": 44,
     "metadata": {},
     "output_type": "execute_result"
    }
   ],
   "source": [
    "ws"
   ]
  },
  {
   "cell_type": "code",
   "execution_count": 45,
   "id": "a1724e18-dad5-4662-a708-2983e3c5d854",
   "metadata": {},
   "outputs": [],
   "source": [
    "dataMat = np.mat(dataArr)"
   ]
  },
  {
   "cell_type": "code",
   "execution_count": 47,
   "id": "52042215-8e39-4c96-87ad-f5ead2954eea",
   "metadata": {},
   "outputs": [
    {
     "data": {
      "text/plain": [
       "matrix([[-0.92555695]])"
      ]
     },
     "execution_count": 47,
     "metadata": {},
     "output_type": "execute_result"
    }
   ],
   "source": [
    "#测试结果\n",
    "dataMat[0] * np.mat(ws) + b"
   ]
  },
  {
   "cell_type": "code",
   "execution_count": 48,
   "id": "4b3133f2-bfce-485f-81bf-ff72cb8f5845",
   "metadata": {},
   "outputs": [
    {
     "data": {
      "text/plain": [
       "-1.0"
      ]
     },
     "execution_count": 48,
     "metadata": {},
     "output_type": "execute_result"
    }
   ],
   "source": [
    "labelArr[0]"
   ]
  },
  {
   "cell_type": "code",
   "execution_count": null,
   "id": "cf52377e-d891-42ae-8263-9d37d90bd61e",
   "metadata": {},
   "outputs": [],
   "source": []
  }
 ],
 "metadata": {
  "kernelspec": {
   "display_name": "Python 3 (ipykernel)",
   "language": "python",
   "name": "python3"
  },
  "language_info": {
   "codemirror_mode": {
    "name": "ipython",
    "version": 3
   },
   "file_extension": ".py",
   "mimetype": "text/x-python",
   "name": "python",
   "nbconvert_exporter": "python",
   "pygments_lexer": "ipython3",
   "version": "3.9.1"
  }
 },
 "nbformat": 4,
 "nbformat_minor": 5
}
