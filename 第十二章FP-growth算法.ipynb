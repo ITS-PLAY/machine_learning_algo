{
 "cells": [
  {
   "cell_type": "code",
   "execution_count": 1,
   "id": "4b51742c-9e1d-4f9a-8aaa-74150b648e22",
   "metadata": {},
   "outputs": [],
   "source": [
    "from numpy import *\n",
    "from pathlib import Path"
   ]
  },
  {
   "cell_type": "code",
   "execution_count": 3,
   "id": "33c9e193-8ad6-4435-ac37-1327d35cb8e5",
   "metadata": {},
   "outputs": [],
   "source": [
    "#FP-growth(Frequent Pattern,频繁模式)可以更有效地挖掘频繁项集，但不能用于发现关联规则：\n",
    "##1）构建FP树。第一次遍历会获得每个元素项的出现频率，并去掉不满足最小支持度的元素；第二次遍历构建FP树\n",
    "##2）从FP树中挖掘频繁项集"
   ]
  },
  {
   "cell_type": "code",
   "execution_count": null,
   "id": "5ded6ae4-592d-4751-9137-f4fea9f54809",
   "metadata": {},
   "outputs": [],
   "source": []
  },
  {
   "cell_type": "code",
   "execution_count": 4,
   "id": "ab56a9c3-5452-4c08-a3c7-61aea67eab2c",
   "metadata": {},
   "outputs": [],
   "source": [
    "#创建PF树的数据结构"
   ]
  },
  {
   "cell_type": "code",
   "execution_count": 28,
   "id": "944543e3-3d57-4fbb-a4b4-3d02ea3484e0",
   "metadata": {},
   "outputs": [],
   "source": [
    "class treeNode:\n",
    "    def __init__(self,nameValue,numOccur,parentNode):\n",
    "        self.name = nameValue\n",
    "        self.count = numOccur\n",
    "        self.nodeLink = None\n",
    "        self.parent = parentNode\n",
    "        self.children = {}\n",
    "        \n",
    "    def inc(self,numOccur):\n",
    "        self.count += numOccur\n",
    "    def disp(self,ind=1):\n",
    "        print('  '*ind, self.name, ' ', self.count)\n",
    "        for child in self.children.values():\n",
    "            child.disp(ind+1)"
   ]
  },
  {
   "cell_type": "code",
   "execution_count": 24,
   "id": "f4b96cd4-81b4-462d-b952-870f4d8099fe",
   "metadata": {},
   "outputs": [],
   "source": [
    "def createTree(dataSet,minSup=1):\n",
    "    headerTable = {}            #头指针表\n",
    "    for trans in dataSet:\n",
    "        for item in trans:\n",
    "            headerTable[item] = headerTable.get(item,0) + dataSet[trans]\n",
    "            \n",
    "    headerTableCopy = headerTable.copy()\n",
    "    for k in headerTableCopy.keys():  #remove items not meeting minSup\n",
    "        if headerTable[k] < minSup: \n",
    "            del(headerTable[k])\n",
    "            \n",
    "    freqItemSet = set(headerTable.keys())\n",
    "    if len(freqItemSet) == 0:\n",
    "        return None,None\n",
    "    \n",
    "    for k in headerTable:\n",
    "        headerTable[k] = [headerTable[k],None]\n",
    "        \n",
    "    retTree = treeNode('Null Set',1,None)\n",
    "    for tranSet,count in dataSet.items():\n",
    "        localD = {}\n",
    "        for item in tranSet:\n",
    "            if item in freqItemSet:\n",
    "                localD[item] = headerTable[item][0]                       #添加全局频率\n",
    "                \n",
    "        if len(localD) > 0:\n",
    "            orderedItems = [v[0] for v in sorted(localD.items(),\n",
    "                                                key=lambda p:p[1], reverse=True)]  #根据全局频率对元素进行排序\n",
    "            updateTree(orderedItems,retTree,headerTable,count)\n",
    "    return retTree,headerTable"
   ]
  },
  {
   "cell_type": "code",
   "execution_count": 15,
   "id": "77bbf6e6-3052-4fbb-9f29-ac754d376964",
   "metadata": {},
   "outputs": [],
   "source": [
    "def updateTree(items,inTree,headerTable,count):\n",
    "    if items[0] in inTree.children:\n",
    "        inTree.children[items[0]].inc(count)\n",
    "    else:                                       #不存在时，则创建一个新的节点，作为一个子节点添加到树中\n",
    "        inTree.children[items[0]] = treeNode(items[0],count,inTree)\n",
    "        if headerTable[items[0]][1] == None:\n",
    "            headerTable[items[0]][1] = inTree.children[items[0]]\n",
    "        else:\n",
    "            updateHeader(headerTable[items[0]][1],inTree.children[items[0]])\n",
    "            \n",
    "    if len(items) > 1:\n",
    "        updateTree(items[1::], inTree.children[items[0]],headerTable,count)\n",
    "\n",
    "def updateHeader(nodeToTest, targetNode):         #寻找头节点的尾部插入\n",
    "    while nodeToTest.nodeLink != None:\n",
    "        nodeToTest = nodeToTest.nodeLink\n",
    "    nodeToTest.nodeLink = targetNode"
   ]
  },
  {
   "cell_type": "code",
   "execution_count": 16,
   "id": "0ea780e4-5ad8-43bd-90be-25471743a846",
   "metadata": {},
   "outputs": [],
   "source": [
    "##测试"
   ]
  },
  {
   "cell_type": "code",
   "execution_count": 17,
   "id": "b751ded2-0638-415b-81f4-3abeb9152ac2",
   "metadata": {},
   "outputs": [],
   "source": [
    "def loadSimpDat():\n",
    "    simpDat = [['r', 'z', 'h', 'j', 'p'],\n",
    "               ['z', 'y', 'x', 'w', 'v', 'u', 't', 's'],\n",
    "               ['z'],\n",
    "               ['r', 'x', 'n', 'o', 's'],\n",
    "               ['y', 'r', 'x', 'z', 'q', 't', 'p'],\n",
    "               ['y', 'z', 'x', 'e', 'q', 's', 't', 'm']]\n",
    "    return simpDat\n",
    "\n",
    "def createInitSet(dataSet):\n",
    "    retDict = {}\n",
    "    for trans in dataSet:\n",
    "        retDict[frozenset(trans)] = 1\n",
    "    return retDict"
   ]
  },
  {
   "cell_type": "code",
   "execution_count": 18,
   "id": "177b4016-10ce-4395-a9ff-c4e7d5e4fef3",
   "metadata": {},
   "outputs": [
    {
     "data": {
      "text/plain": [
       "[['r', 'z', 'h', 'j', 'p'],\n",
       " ['z', 'y', 'x', 'w', 'v', 'u', 't', 's'],\n",
       " ['z'],\n",
       " ['r', 'x', 'n', 'o', 's'],\n",
       " ['y', 'r', 'x', 'z', 'q', 't', 'p'],\n",
       " ['y', 'z', 'x', 'e', 'q', 's', 't', 'm']]"
      ]
     },
     "execution_count": 18,
     "metadata": {},
     "output_type": "execute_result"
    }
   ],
   "source": [
    "simpDat = loadSimpDat()\n",
    "simpDat"
   ]
  },
  {
   "cell_type": "code",
   "execution_count": 19,
   "id": "580200cb-2956-4bb6-9ba0-222627e8cf3c",
   "metadata": {},
   "outputs": [],
   "source": [
    "initSet = createInitSet(simpDat)"
   ]
  },
  {
   "cell_type": "code",
   "execution_count": 20,
   "id": "0ff0ba9c-74de-4ccf-87b7-f09e2428bf76",
   "metadata": {},
   "outputs": [
    {
     "data": {
      "text/plain": [
       "{frozenset({'h', 'j', 'p', 'r', 'z'}): 1,\n",
       " frozenset({'s', 't', 'u', 'v', 'w', 'x', 'y', 'z'}): 1,\n",
       " frozenset({'z'}): 1,\n",
       " frozenset({'n', 'o', 'r', 's', 'x'}): 1,\n",
       " frozenset({'p', 'q', 'r', 't', 'x', 'y', 'z'}): 1,\n",
       " frozenset({'e', 'm', 'q', 's', 't', 'x', 'y', 'z'}): 1}"
      ]
     },
     "execution_count": 20,
     "metadata": {},
     "output_type": "execute_result"
    }
   ],
   "source": [
    "initSet"
   ]
  },
  {
   "cell_type": "code",
   "execution_count": 31,
   "id": "bc2f46cb-f4e2-4e96-9489-4856fb4bcefd",
   "metadata": {},
   "outputs": [],
   "source": [
    "myFPtree,myHeaderTab = createTree(initSet,3)"
   ]
  },
  {
   "cell_type": "code",
   "execution_count": 44,
   "id": "7ee82d2c-8ae7-42e2-b168-e94e35b401fc",
   "metadata": {},
   "outputs": [
    {
     "name": "stdout",
     "output_type": "stream",
     "text": [
      "   Null Set   1\n",
      "     z   5\n",
      "       r   1\n",
      "       x   3\n",
      "         s   2\n",
      "           t   2\n",
      "             y   2\n",
      "         y   1\n",
      "           t   1\n",
      "             r   1\n",
      "     x   1\n",
      "       s   1\n",
      "         r   1\n"
     ]
    }
   ],
   "source": [
    "myFPtree.disp()"
   ]
  },
  {
   "cell_type": "code",
   "execution_count": null,
   "id": "48b773e3-b421-46a4-95fc-998f8599859e",
   "metadata": {},
   "outputs": [],
   "source": []
  },
  {
   "cell_type": "code",
   "execution_count": 34,
   "id": "2d3656a6-71e6-433d-9eef-9ea62f9e114a",
   "metadata": {},
   "outputs": [],
   "source": [
    "##从FP树挖掘频繁项集\n",
    "###1)从FP树中获得条件模式基\n",
    "###2)利用条件模式基，构建一个条件FP树\n",
    "###3)迭代重复上述步骤，直到树包含一个元素项为止"
   ]
  },
  {
   "cell_type": "code",
   "execution_count": 41,
   "id": "9fa476bd-7cb7-460d-a48e-84cdbb9dc9f6",
   "metadata": {},
   "outputs": [],
   "source": [
    "def ascendTree(leafNode, prefixPath): #ascends from leaf node to root\n",
    "    if leafNode.parent != None:\n",
    "        prefixPath.append(leafNode.name)\n",
    "        ascendTree(leafNode.parent, prefixPath)\n",
    "    \n",
    "def findPrefixPath(basePat, treeNode): #treeNode comes from header table\n",
    "    condPats = {}\n",
    "    while treeNode != None:\n",
    "        prefixPath = []\n",
    "        ascendTree(treeNode, prefixPath)\n",
    "        if len(prefixPath) > 1: \n",
    "            condPats[frozenset(prefixPath[1:])] = treeNode.count\n",
    "        treeNode = treeNode.nodeLink\n",
    "    return condPats\n",
    "\n",
    "def mineTree(inTree, headerTable, minSup, preFix, freqItemList):\n",
    "    bigL = [v[0] for v in sorted(headerTable.items(), key=lambda p: p[0])]#(sort header table)\n",
    "    for basePat in bigL:  #start from bottom of header table\n",
    "        newFreqSet = preFix.copy()\n",
    "        newFreqSet.add(basePat)\n",
    "        #print 'finalFrequent Item: ',newFreqSet    #append to set\n",
    "        freqItemList.append(newFreqSet)\n",
    "        condPattBases = findPrefixPath(basePat, headerTable[basePat][1])\n",
    "        #print 'condPattBases :',basePat, condPattBases\n",
    "        #2. construct cond FP-tree from cond. pattern base\n",
    "        myCondTree, myHead = createTree(condPattBases, minSup)\n",
    "        #print 'head from conditional tree: ', myHead\n",
    "        if myHead != None: #3. mine cond. FP-tree\n",
    "            print('conditional tree for: ',newFreqSet)\n",
    "            myCondTree.disp(1)            \n",
    "            mineTree(myCondTree, myHead, minSup, newFreqSet, freqItemList)"
   ]
  },
  {
   "cell_type": "code",
   "execution_count": 42,
   "id": "a34e6ee2-db74-4ae7-883e-7491e7c2cd67",
   "metadata": {},
   "outputs": [],
   "source": [
    "#测试PF-growth算法"
   ]
  },
  {
   "cell_type": "code",
   "execution_count": 43,
   "id": "83aa6cf3-62dc-4a2e-b858-f0c69d1c03ff",
   "metadata": {},
   "outputs": [],
   "source": [
    "freqItems=[]"
   ]
  },
  {
   "cell_type": "code",
   "execution_count": 45,
   "id": "94de2e71-ef84-4753-b9d8-1574f9193628",
   "metadata": {},
   "outputs": [
    {
     "name": "stdout",
     "output_type": "stream",
     "text": [
      "conditional tree for:  {'s'}\n",
      "   Null Set   1\n",
      "     x   3\n",
      "conditional tree for:  {'t'}\n",
      "   Null Set   1\n",
      "     x   3\n",
      "       z   3\n",
      "conditional tree for:  {'z', 't'}\n",
      "   Null Set   1\n",
      "     x   3\n",
      "conditional tree for:  {'x'}\n",
      "   Null Set   1\n",
      "     z   3\n",
      "conditional tree for:  {'y'}\n",
      "   Null Set   1\n",
      "     x   3\n",
      "       z   3\n",
      "conditional tree for:  {'z', 'y'}\n",
      "   Null Set   1\n",
      "     x   3\n"
     ]
    }
   ],
   "source": [
    "mineTree(myFPtree,myHeaderTab,3,set([]),freqItems)"
   ]
  },
  {
   "cell_type": "code",
   "execution_count": 46,
   "id": "604e7494-51da-4578-b8dd-27dfcc94d2e0",
   "metadata": {},
   "outputs": [
    {
     "data": {
      "text/plain": [
       "[{'r'},\n",
       " {'s'},\n",
       " {'s', 'x'},\n",
       " {'t'},\n",
       " {'t', 'x'},\n",
       " {'t', 'z'},\n",
       " {'t', 'x', 'z'},\n",
       " {'x'},\n",
       " {'x', 'z'},\n",
       " {'y'},\n",
       " {'x', 'y'},\n",
       " {'y', 'z'},\n",
       " {'x', 'y', 'z'},\n",
       " {'z'}]"
      ]
     },
     "execution_count": 46,
     "metadata": {},
     "output_type": "execute_result"
    }
   ],
   "source": [
    "freqItems"
   ]
  },
  {
   "cell_type": "code",
   "execution_count": null,
   "id": "4210b55e-ffe4-4f32-a7bb-d9f4a6192a22",
   "metadata": {},
   "outputs": [],
   "source": []
  }
 ],
 "metadata": {
  "kernelspec": {
   "display_name": "Python 3 (ipykernel)",
   "language": "python",
   "name": "python3"
  },
  "language_info": {
   "codemirror_mode": {
    "name": "ipython",
    "version": 3
   },
   "file_extension": ".py",
   "mimetype": "text/x-python",
   "name": "python",
   "nbconvert_exporter": "python",
   "pygments_lexer": "ipython3",
   "version": "3.9.1"
  }
 },
 "nbformat": 4,
 "nbformat_minor": 5
}
